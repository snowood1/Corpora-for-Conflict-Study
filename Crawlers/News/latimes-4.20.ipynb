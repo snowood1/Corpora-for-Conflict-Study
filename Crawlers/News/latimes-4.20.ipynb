{
 "cells": [
  {
   "cell_type": "code",
   "execution_count": 1,
   "metadata": {
    "ExecuteTime": {
     "end_time": "2021-04-21T07:27:40.332963Z",
     "start_time": "2021-04-21T07:27:39.740759Z"
    }
   },
   "outputs": [
    {
     "name": "stdout",
     "output_type": "stream",
     "text": [
      "INFO: Pandarallel will run on 40 workers.\n",
      "INFO: Pandarallel will use Memory file system to transfer data between the main process and workers.\n"
     ]
    }
   ],
   "source": [
    "import wget\n",
    "import newspaper\n",
    "import json\n",
    "import pandas as pd\n",
    "pd.set_option(\"max_colwidth\", 600)\n",
    "import ast\n",
    "from bs4 import BeautifulSoup\n",
    "import re\n",
    "import requests\n",
    "import time\n",
    "import numpy as np\n",
    "import zipfile\n",
    "import os\n",
    "import html\n",
    "import re\n",
    "import itertools\n",
    "from collections import Counter\n",
    "from pandarallel import pandarallel\n",
    "pandarallel.initialize()"
   ]
  },
  {
   "cell_type": "markdown",
   "metadata": {},
   "source": [
    "# LATIMES 1914 -2002"
   ]
  },
  {
   "cell_type": "code",
   "execution_count": 2,
   "metadata": {
    "ExecuteTime": {
     "end_time": "2021-04-20T07:37:14.664787Z",
     "start_time": "2021-04-20T07:37:14.611277Z"
    }
   },
   "outputs": [
    {
     "data": {
      "text/html": [
       "<div>\n",
       "<style scoped>\n",
       "    .dataframe tbody tr th:only-of-type {\n",
       "        vertical-align: middle;\n",
       "    }\n",
       "\n",
       "    .dataframe tbody tr th {\n",
       "        vertical-align: top;\n",
       "    }\n",
       "\n",
       "    .dataframe thead th {\n",
       "        text-align: right;\n",
       "    }\n",
       "</style>\n",
       "<table border=\"1\" class=\"dataframe\">\n",
       "  <thead>\n",
       "    <tr style=\"text-align: right;\">\n",
       "      <th></th>\n",
       "      <th>year</th>\n",
       "      <th>month</th>\n",
       "      <th>page</th>\n",
       "    </tr>\n",
       "  </thead>\n",
       "  <tbody>\n",
       "    <tr>\n",
       "      <th>0</th>\n",
       "      <td>1914</td>\n",
       "      <td>1</td>\n",
       "      <td>https://www.latimes.com/sitemap/1914/1</td>\n",
       "    </tr>\n",
       "    <tr>\n",
       "      <th>1</th>\n",
       "      <td>1914</td>\n",
       "      <td>2</td>\n",
       "      <td>https://www.latimes.com/sitemap/1914/2</td>\n",
       "    </tr>\n",
       "    <tr>\n",
       "      <th>2</th>\n",
       "      <td>1914</td>\n",
       "      <td>3</td>\n",
       "      <td>https://www.latimes.com/sitemap/1914/3</td>\n",
       "    </tr>\n",
       "    <tr>\n",
       "      <th>3</th>\n",
       "      <td>1914</td>\n",
       "      <td>4</td>\n",
       "      <td>https://www.latimes.com/sitemap/1914/4</td>\n",
       "    </tr>\n",
       "    <tr>\n",
       "      <th>4</th>\n",
       "      <td>1914</td>\n",
       "      <td>5</td>\n",
       "      <td>https://www.latimes.com/sitemap/1914/5</td>\n",
       "    </tr>\n",
       "    <tr>\n",
       "      <th>...</th>\n",
       "      <td>...</td>\n",
       "      <td>...</td>\n",
       "      <td>...</td>\n",
       "    </tr>\n",
       "    <tr>\n",
       "      <th>1291</th>\n",
       "      <td>2021</td>\n",
       "      <td>8</td>\n",
       "      <td>https://www.latimes.com/sitemap/2021/8</td>\n",
       "    </tr>\n",
       "    <tr>\n",
       "      <th>1292</th>\n",
       "      <td>2021</td>\n",
       "      <td>9</td>\n",
       "      <td>https://www.latimes.com/sitemap/2021/9</td>\n",
       "    </tr>\n",
       "    <tr>\n",
       "      <th>1293</th>\n",
       "      <td>2021</td>\n",
       "      <td>10</td>\n",
       "      <td>https://www.latimes.com/sitemap/2021/10</td>\n",
       "    </tr>\n",
       "    <tr>\n",
       "      <th>1294</th>\n",
       "      <td>2021</td>\n",
       "      <td>11</td>\n",
       "      <td>https://www.latimes.com/sitemap/2021/11</td>\n",
       "    </tr>\n",
       "    <tr>\n",
       "      <th>1295</th>\n",
       "      <td>2021</td>\n",
       "      <td>12</td>\n",
       "      <td>https://www.latimes.com/sitemap/2021/12</td>\n",
       "    </tr>\n",
       "  </tbody>\n",
       "</table>\n",
       "<p>1296 rows × 3 columns</p>\n",
       "</div>"
      ],
      "text/plain": [
       "      year  month                                     page\n",
       "0     1914      1   https://www.latimes.com/sitemap/1914/1\n",
       "1     1914      2   https://www.latimes.com/sitemap/1914/2\n",
       "2     1914      3   https://www.latimes.com/sitemap/1914/3\n",
       "3     1914      4   https://www.latimes.com/sitemap/1914/4\n",
       "4     1914      5   https://www.latimes.com/sitemap/1914/5\n",
       "...    ...    ...                                      ...\n",
       "1291  2021      8   https://www.latimes.com/sitemap/2021/8\n",
       "1292  2021      9   https://www.latimes.com/sitemap/2021/9\n",
       "1293  2021     10  https://www.latimes.com/sitemap/2021/10\n",
       "1294  2021     11  https://www.latimes.com/sitemap/2021/11\n",
       "1295  2021     12  https://www.latimes.com/sitemap/2021/12\n",
       "\n",
       "[1296 rows x 3 columns]"
      ]
     },
     "execution_count": 2,
     "metadata": {},
     "output_type": "execute_result"
    }
   ],
   "source": [
    "years = range(1914, 2022)\n",
    "months = range(1,13)\n",
    "products = itertools.product(years,months)\n",
    "df= pd.DataFrame([ [year, month] for (year,month) in products],columns=['year', 'month'])\n",
    "df['page'] = 'https://www.latimes.com/sitemap/' + df['year'].astype(str) + '/' + df['month'].astype(str)\n",
    "df"
   ]
  },
  {
   "cell_type": "code",
   "execution_count": 56,
   "metadata": {
    "ExecuteTime": {
     "end_time": "2021-04-20T08:10:14.993513Z",
     "start_time": "2021-04-20T08:10:14.978614Z"
    }
   },
   "outputs": [],
   "source": [
    "headers={\n",
    "    'accept': '*/*',\n",
    "    'referer': 'https://www.latimes.com/sitemap/',\n",
    "    'user-agent': 'Mozilla/5.0 (X11; Linux x86_64) AppleWebKit/537.36 (KHTML, like Gecko) Chrome/88.0.4324.150 Safari/537.36'\n",
    "}\n",
    "\n",
    "def get_other_page_links(page):\n",
    "    try:\n",
    "        coverpage = requests.get(page,headers = headers).content\n",
    "        soup = BeautifulSoup(coverpage, 'html.parser')\n",
    "        current_body = soup.find_all('ul', {'class':'archive-page-menu'})[0]\n",
    "#         current_href = current_body.find_all('a', href= True)\n",
    "        more_pages = soup.find_all('ul', {'class':'archive-page-pagination-menu'})\n",
    "\n",
    "        if len(more_pages):\n",
    "            more_href = more_pages[0].find_all('a', href=True)\n",
    "            more_href = [page + i['href'] for i in more_href]\n",
    "        else:\n",
    "            more_href = []\n",
    "    \n",
    "        return more_href\n",
    "    except:\n",
    "        return 'None'"
   ]
  },
  {
   "cell_type": "code",
   "execution_count": 57,
   "metadata": {
    "ExecuteTime": {
     "end_time": "2021-04-20T08:10:45.955977Z",
     "start_time": "2021-04-20T08:10:25.025532Z"
    },
    "scrolled": true
   },
   "outputs": [
    {
     "name": "stdout",
     "output_type": "stream",
     "text": [
      "INFO: Pandarallel will run on 8 workers.\n",
      "INFO: Pandarallel will use Memory file system to transfer data between the main process and workers.\n"
     ]
    },
    {
     "data": {
      "application/vnd.jupyter.widget-view+json": {
       "model_id": "e61b7d8fb4ca48f0ab6e79eec2285e6b",
       "version_major": 2,
       "version_minor": 0
      },
      "text/plain": [
       "VBox(children=(HBox(children=(IntProgress(value=0, description='0.00%', max=162), Label(value='0 / 162'))), HB…"
      ]
     },
     "metadata": {},
     "output_type": "display_data"
    }
   ],
   "source": [
    "pandarallel.initialize(nb_workers=8, progress_bar=True)\n",
    "df['more_pages']=None\n",
    "df['more_pages']= df['page'].parallel_apply(get_other_page_links).values"
   ]
  },
  {
   "cell_type": "code",
   "execution_count": 65,
   "metadata": {
    "ExecuteTime": {
     "end_time": "2021-04-20T08:13:32.350941Z",
     "start_time": "2021-04-20T08:13:32.329050Z"
    },
    "scrolled": true
   },
   "outputs": [
    {
     "data": {
      "text/html": [
       "<div>\n",
       "<style scoped>\n",
       "    .dataframe tbody tr th:only-of-type {\n",
       "        vertical-align: middle;\n",
       "    }\n",
       "\n",
       "    .dataframe tbody tr th {\n",
       "        vertical-align: top;\n",
       "    }\n",
       "\n",
       "    .dataframe thead th {\n",
       "        text-align: right;\n",
       "    }\n",
       "</style>\n",
       "<table border=\"1\" class=\"dataframe\">\n",
       "  <thead>\n",
       "    <tr style=\"text-align: right;\">\n",
       "      <th></th>\n",
       "      <th>year</th>\n",
       "      <th>month</th>\n",
       "      <th>page</th>\n",
       "      <th>more_pages</th>\n",
       "    </tr>\n",
       "  </thead>\n",
       "  <tbody>\n",
       "    <tr>\n",
       "      <th>0</th>\n",
       "      <td>1914</td>\n",
       "      <td>12</td>\n",
       "      <td>https://www.latimes.com/sitemap/1914/12</td>\n",
       "      <td>[https://www.latimes.com/sitemap/1914/12#]</td>\n",
       "    </tr>\n",
       "    <tr>\n",
       "      <th>1</th>\n",
       "      <td>1915</td>\n",
       "      <td>5</td>\n",
       "      <td>https://www.latimes.com/sitemap/1915/5</td>\n",
       "      <td>[https://www.latimes.com/sitemap/1915/5#]</td>\n",
       "    </tr>\n",
       "    <tr>\n",
       "      <th>2</th>\n",
       "      <td>1919</td>\n",
       "      <td>10</td>\n",
       "      <td>https://www.latimes.com/sitemap/1919/10</td>\n",
       "      <td>[https://www.latimes.com/sitemap/1919/10#]</td>\n",
       "    </tr>\n",
       "    <tr>\n",
       "      <th>3</th>\n",
       "      <td>1923</td>\n",
       "      <td>3</td>\n",
       "      <td>https://www.latimes.com/sitemap/1923/3</td>\n",
       "      <td>[https://www.latimes.com/sitemap/1923/3#]</td>\n",
       "    </tr>\n",
       "    <tr>\n",
       "      <th>4</th>\n",
       "      <td>1926</td>\n",
       "      <td>11</td>\n",
       "      <td>https://www.latimes.com/sitemap/1926/11</td>\n",
       "      <td>[https://www.latimes.com/sitemap/1926/11#]</td>\n",
       "    </tr>\n",
       "    <tr>\n",
       "      <th>...</th>\n",
       "      <td>...</td>\n",
       "      <td>...</td>\n",
       "      <td>...</td>\n",
       "      <td>...</td>\n",
       "    </tr>\n",
       "    <tr>\n",
       "      <th>559</th>\n",
       "      <td>2020</td>\n",
       "      <td>12</td>\n",
       "      <td>https://www.latimes.com/sitemap/2020/12</td>\n",
       "      <td>[https://www.latimes.com/sitemap/2020/12#, https://www.latimes.com/sitemap/2020/12?p=2, https://www.latimes.com/sitemap/2020/12?p=3, https://www.latimes.com/sitemap/2020/12?p=4, https://www.latimes.com/sitemap/2020/12?p=5, https://www.latimes.com/sitemap/2020/12?p=6, https://www.latimes.com/sitemap/2020/12?p=7, https://www.latimes.com/sitemap/2020/12?p=8, https://www.latimes.com/sitemap/2020/12?p=9, https://www.latimes.com/sitemap/2020/12?p=10, https://www.latimes.com/sitemap/2020/12?p=11, https://www.latimes.com/sitemap/2020/12?p=12]</td>\n",
       "    </tr>\n",
       "    <tr>\n",
       "      <th>560</th>\n",
       "      <td>2021</td>\n",
       "      <td>1</td>\n",
       "      <td>https://www.latimes.com/sitemap/2021/1</td>\n",
       "      <td>[https://www.latimes.com/sitemap/2021/1#, https://www.latimes.com/sitemap/2021/1?p=2, https://www.latimes.com/sitemap/2021/1?p=3, https://www.latimes.com/sitemap/2021/1?p=4, https://www.latimes.com/sitemap/2021/1?p=5, https://www.latimes.com/sitemap/2021/1?p=6, https://www.latimes.com/sitemap/2021/1?p=7, https://www.latimes.com/sitemap/2021/1?p=8, https://www.latimes.com/sitemap/2021/1?p=9, https://www.latimes.com/sitemap/2021/1?p=10, https://www.latimes.com/sitemap/2021/1?p=11, https://www.latimes.com/sitemap/2021/1?p=12]</td>\n",
       "    </tr>\n",
       "    <tr>\n",
       "      <th>561</th>\n",
       "      <td>2021</td>\n",
       "      <td>2</td>\n",
       "      <td>https://www.latimes.com/sitemap/2021/2</td>\n",
       "      <td>[https://www.latimes.com/sitemap/2021/2#, https://www.latimes.com/sitemap/2021/2?p=2, https://www.latimes.com/sitemap/2021/2?p=3, https://www.latimes.com/sitemap/2021/2?p=4, https://www.latimes.com/sitemap/2021/2?p=5, https://www.latimes.com/sitemap/2021/2?p=6, https://www.latimes.com/sitemap/2021/2?p=7, https://www.latimes.com/sitemap/2021/2?p=8, https://www.latimes.com/sitemap/2021/2?p=9, https://www.latimes.com/sitemap/2021/2?p=10, https://www.latimes.com/sitemap/2021/2?p=11]</td>\n",
       "    </tr>\n",
       "    <tr>\n",
       "      <th>562</th>\n",
       "      <td>2021</td>\n",
       "      <td>3</td>\n",
       "      <td>https://www.latimes.com/sitemap/2021/3</td>\n",
       "      <td>[https://www.latimes.com/sitemap/2021/3#, https://www.latimes.com/sitemap/2021/3?p=2, https://www.latimes.com/sitemap/2021/3?p=3, https://www.latimes.com/sitemap/2021/3?p=4, https://www.latimes.com/sitemap/2021/3?p=5, https://www.latimes.com/sitemap/2021/3?p=6, https://www.latimes.com/sitemap/2021/3?p=7, https://www.latimes.com/sitemap/2021/3?p=8, https://www.latimes.com/sitemap/2021/3?p=9, https://www.latimes.com/sitemap/2021/3?p=10, https://www.latimes.com/sitemap/2021/3?p=11, https://www.latimes.com/sitemap/2021/3?p=12, https://www.latimes.com/sitemap/2021/3?p=13]</td>\n",
       "    </tr>\n",
       "    <tr>\n",
       "      <th>563</th>\n",
       "      <td>2021</td>\n",
       "      <td>4</td>\n",
       "      <td>https://www.latimes.com/sitemap/2021/4</td>\n",
       "      <td>[https://www.latimes.com/sitemap/2021/4#, https://www.latimes.com/sitemap/2021/4?p=2, https://www.latimes.com/sitemap/2021/4?p=3, https://www.latimes.com/sitemap/2021/4?p=4, https://www.latimes.com/sitemap/2021/4?p=5, https://www.latimes.com/sitemap/2021/4?p=6, https://www.latimes.com/sitemap/2021/4?p=7, https://www.latimes.com/sitemap/2021/4?p=8]</td>\n",
       "    </tr>\n",
       "  </tbody>\n",
       "</table>\n",
       "<p>564 rows × 4 columns</p>\n",
       "</div>"
      ],
      "text/plain": [
       "     year  month                                     page  \\\n",
       "0    1914     12  https://www.latimes.com/sitemap/1914/12   \n",
       "1    1915      5   https://www.latimes.com/sitemap/1915/5   \n",
       "2    1919     10  https://www.latimes.com/sitemap/1919/10   \n",
       "3    1923      3   https://www.latimes.com/sitemap/1923/3   \n",
       "4    1926     11  https://www.latimes.com/sitemap/1926/11   \n",
       "..    ...    ...                                      ...   \n",
       "559  2020     12  https://www.latimes.com/sitemap/2020/12   \n",
       "560  2021      1   https://www.latimes.com/sitemap/2021/1   \n",
       "561  2021      2   https://www.latimes.com/sitemap/2021/2   \n",
       "562  2021      3   https://www.latimes.com/sitemap/2021/3   \n",
       "563  2021      4   https://www.latimes.com/sitemap/2021/4   \n",
       "\n",
       "                                                                                                                                                                                                                                                                                                                                                                                                                                                                                                                                                                                        more_pages  \n",
       "0                                                                                                                                                                                                                                                                                                                                                                                                                                                                                                                                                       [https://www.latimes.com/sitemap/1914/12#]  \n",
       "1                                                                                                                                                                                                                                                                                                                                                                                                                                                                                                                                                        [https://www.latimes.com/sitemap/1915/5#]  \n",
       "2                                                                                                                                                                                                                                                                                                                                                                                                                                                                                                                                                       [https://www.latimes.com/sitemap/1919/10#]  \n",
       "3                                                                                                                                                                                                                                                                                                                                                                                                                                                                                                                                                        [https://www.latimes.com/sitemap/1923/3#]  \n",
       "4                                                                                                                                                                                                                                                                                                                                                                                                                                                                                                                                                       [https://www.latimes.com/sitemap/1926/11#]  \n",
       "..                                                                                                                                                                                                                                                                                                                                                                                                                                                                                                                                                                                             ...  \n",
       "559                                   [https://www.latimes.com/sitemap/2020/12#, https://www.latimes.com/sitemap/2020/12?p=2, https://www.latimes.com/sitemap/2020/12?p=3, https://www.latimes.com/sitemap/2020/12?p=4, https://www.latimes.com/sitemap/2020/12?p=5, https://www.latimes.com/sitemap/2020/12?p=6, https://www.latimes.com/sitemap/2020/12?p=7, https://www.latimes.com/sitemap/2020/12?p=8, https://www.latimes.com/sitemap/2020/12?p=9, https://www.latimes.com/sitemap/2020/12?p=10, https://www.latimes.com/sitemap/2020/12?p=11, https://www.latimes.com/sitemap/2020/12?p=12]  \n",
       "560                                               [https://www.latimes.com/sitemap/2021/1#, https://www.latimes.com/sitemap/2021/1?p=2, https://www.latimes.com/sitemap/2021/1?p=3, https://www.latimes.com/sitemap/2021/1?p=4, https://www.latimes.com/sitemap/2021/1?p=5, https://www.latimes.com/sitemap/2021/1?p=6, https://www.latimes.com/sitemap/2021/1?p=7, https://www.latimes.com/sitemap/2021/1?p=8, https://www.latimes.com/sitemap/2021/1?p=9, https://www.latimes.com/sitemap/2021/1?p=10, https://www.latimes.com/sitemap/2021/1?p=11, https://www.latimes.com/sitemap/2021/1?p=12]  \n",
       "561                                                                                            [https://www.latimes.com/sitemap/2021/2#, https://www.latimes.com/sitemap/2021/2?p=2, https://www.latimes.com/sitemap/2021/2?p=3, https://www.latimes.com/sitemap/2021/2?p=4, https://www.latimes.com/sitemap/2021/2?p=5, https://www.latimes.com/sitemap/2021/2?p=6, https://www.latimes.com/sitemap/2021/2?p=7, https://www.latimes.com/sitemap/2021/2?p=8, https://www.latimes.com/sitemap/2021/2?p=9, https://www.latimes.com/sitemap/2021/2?p=10, https://www.latimes.com/sitemap/2021/2?p=11]  \n",
       "562  [https://www.latimes.com/sitemap/2021/3#, https://www.latimes.com/sitemap/2021/3?p=2, https://www.latimes.com/sitemap/2021/3?p=3, https://www.latimes.com/sitemap/2021/3?p=4, https://www.latimes.com/sitemap/2021/3?p=5, https://www.latimes.com/sitemap/2021/3?p=6, https://www.latimes.com/sitemap/2021/3?p=7, https://www.latimes.com/sitemap/2021/3?p=8, https://www.latimes.com/sitemap/2021/3?p=9, https://www.latimes.com/sitemap/2021/3?p=10, https://www.latimes.com/sitemap/2021/3?p=11, https://www.latimes.com/sitemap/2021/3?p=12, https://www.latimes.com/sitemap/2021/3?p=13]  \n",
       "563                                                                                                                                                                                                                                  [https://www.latimes.com/sitemap/2021/4#, https://www.latimes.com/sitemap/2021/4?p=2, https://www.latimes.com/sitemap/2021/4?p=3, https://www.latimes.com/sitemap/2021/4?p=4, https://www.latimes.com/sitemap/2021/4?p=5, https://www.latimes.com/sitemap/2021/4?p=6, https://www.latimes.com/sitemap/2021/4?p=7, https://www.latimes.com/sitemap/2021/4?p=8]  \n",
       "\n",
       "[564 rows x 4 columns]"
      ]
     },
     "execution_count": 65,
     "metadata": {},
     "output_type": "execute_result"
    }
   ],
   "source": [
    "df = df[df.more_pages!='None'].reset_index(drop=True)\n",
    "df"
   ]
  },
  {
   "cell_type": "code",
   "execution_count": 66,
   "metadata": {
    "ExecuteTime": {
     "end_time": "2021-04-20T08:13:57.143586Z",
     "start_time": "2021-04-20T08:13:57.112724Z"
    }
   },
   "outputs": [
    {
     "data": {
      "text/html": [
       "<div>\n",
       "<style scoped>\n",
       "    .dataframe tbody tr th:only-of-type {\n",
       "        vertical-align: middle;\n",
       "    }\n",
       "\n",
       "    .dataframe tbody tr th {\n",
       "        vertical-align: top;\n",
       "    }\n",
       "\n",
       "    .dataframe thead th {\n",
       "        text-align: right;\n",
       "    }\n",
       "</style>\n",
       "<table border=\"1\" class=\"dataframe\">\n",
       "  <thead>\n",
       "    <tr style=\"text-align: right;\">\n",
       "      <th></th>\n",
       "      <th>year</th>\n",
       "      <th>month</th>\n",
       "      <th>page</th>\n",
       "      <th>more_pages</th>\n",
       "    </tr>\n",
       "  </thead>\n",
       "  <tbody>\n",
       "    <tr>\n",
       "      <th>0</th>\n",
       "      <td>1914</td>\n",
       "      <td>12</td>\n",
       "      <td>https://www.latimes.com/sitemap/1914/12</td>\n",
       "      <td>https://www.latimes.com/sitemap/1914/12#</td>\n",
       "    </tr>\n",
       "    <tr>\n",
       "      <th>1</th>\n",
       "      <td>1915</td>\n",
       "      <td>5</td>\n",
       "      <td>https://www.latimes.com/sitemap/1915/5</td>\n",
       "      <td>https://www.latimes.com/sitemap/1915/5#</td>\n",
       "    </tr>\n",
       "    <tr>\n",
       "      <th>2</th>\n",
       "      <td>1919</td>\n",
       "      <td>10</td>\n",
       "      <td>https://www.latimes.com/sitemap/1919/10</td>\n",
       "      <td>https://www.latimes.com/sitemap/1919/10#</td>\n",
       "    </tr>\n",
       "    <tr>\n",
       "      <th>3</th>\n",
       "      <td>1923</td>\n",
       "      <td>3</td>\n",
       "      <td>https://www.latimes.com/sitemap/1923/3</td>\n",
       "      <td>https://www.latimes.com/sitemap/1923/3#</td>\n",
       "    </tr>\n",
       "    <tr>\n",
       "      <th>4</th>\n",
       "      <td>1926</td>\n",
       "      <td>11</td>\n",
       "      <td>https://www.latimes.com/sitemap/1926/11</td>\n",
       "      <td>https://www.latimes.com/sitemap/1926/11#</td>\n",
       "    </tr>\n",
       "    <tr>\n",
       "      <th>...</th>\n",
       "      <td>...</td>\n",
       "      <td>...</td>\n",
       "      <td>...</td>\n",
       "      <td>...</td>\n",
       "    </tr>\n",
       "    <tr>\n",
       "      <th>12084</th>\n",
       "      <td>2021</td>\n",
       "      <td>4</td>\n",
       "      <td>https://www.latimes.com/sitemap/2021/4</td>\n",
       "      <td>https://www.latimes.com/sitemap/2021/4?p=4</td>\n",
       "    </tr>\n",
       "    <tr>\n",
       "      <th>12085</th>\n",
       "      <td>2021</td>\n",
       "      <td>4</td>\n",
       "      <td>https://www.latimes.com/sitemap/2021/4</td>\n",
       "      <td>https://www.latimes.com/sitemap/2021/4?p=5</td>\n",
       "    </tr>\n",
       "    <tr>\n",
       "      <th>12086</th>\n",
       "      <td>2021</td>\n",
       "      <td>4</td>\n",
       "      <td>https://www.latimes.com/sitemap/2021/4</td>\n",
       "      <td>https://www.latimes.com/sitemap/2021/4?p=6</td>\n",
       "    </tr>\n",
       "    <tr>\n",
       "      <th>12087</th>\n",
       "      <td>2021</td>\n",
       "      <td>4</td>\n",
       "      <td>https://www.latimes.com/sitemap/2021/4</td>\n",
       "      <td>https://www.latimes.com/sitemap/2021/4?p=7</td>\n",
       "    </tr>\n",
       "    <tr>\n",
       "      <th>12088</th>\n",
       "      <td>2021</td>\n",
       "      <td>4</td>\n",
       "      <td>https://www.latimes.com/sitemap/2021/4</td>\n",
       "      <td>https://www.latimes.com/sitemap/2021/4?p=8</td>\n",
       "    </tr>\n",
       "  </tbody>\n",
       "</table>\n",
       "<p>12089 rows × 4 columns</p>\n",
       "</div>"
      ],
      "text/plain": [
       "       year  month                                     page  \\\n",
       "0      1914     12  https://www.latimes.com/sitemap/1914/12   \n",
       "1      1915      5   https://www.latimes.com/sitemap/1915/5   \n",
       "2      1919     10  https://www.latimes.com/sitemap/1919/10   \n",
       "3      1923      3   https://www.latimes.com/sitemap/1923/3   \n",
       "4      1926     11  https://www.latimes.com/sitemap/1926/11   \n",
       "...     ...    ...                                      ...   \n",
       "12084  2021      4   https://www.latimes.com/sitemap/2021/4   \n",
       "12085  2021      4   https://www.latimes.com/sitemap/2021/4   \n",
       "12086  2021      4   https://www.latimes.com/sitemap/2021/4   \n",
       "12087  2021      4   https://www.latimes.com/sitemap/2021/4   \n",
       "12088  2021      4   https://www.latimes.com/sitemap/2021/4   \n",
       "\n",
       "                                       more_pages  \n",
       "0        https://www.latimes.com/sitemap/1914/12#  \n",
       "1         https://www.latimes.com/sitemap/1915/5#  \n",
       "2        https://www.latimes.com/sitemap/1919/10#  \n",
       "3         https://www.latimes.com/sitemap/1923/3#  \n",
       "4        https://www.latimes.com/sitemap/1926/11#  \n",
       "...                                           ...  \n",
       "12084  https://www.latimes.com/sitemap/2021/4?p=4  \n",
       "12085  https://www.latimes.com/sitemap/2021/4?p=5  \n",
       "12086  https://www.latimes.com/sitemap/2021/4?p=6  \n",
       "12087  https://www.latimes.com/sitemap/2021/4?p=7  \n",
       "12088  https://www.latimes.com/sitemap/2021/4?p=8  \n",
       "\n",
       "[12089 rows x 4 columns]"
      ]
     },
     "execution_count": 66,
     "metadata": {},
     "output_type": "execute_result"
    }
   ],
   "source": [
    "df = df.explode('more_pages').reset_index(drop=True)\n",
    "df"
   ]
  },
  {
   "cell_type": "code",
   "execution_count": 67,
   "metadata": {
    "ExecuteTime": {
     "end_time": "2021-04-20T08:14:14.641787Z",
     "start_time": "2021-04-20T08:14:14.591716Z"
    }
   },
   "outputs": [],
   "source": [
    "df.to_csv('latimes_1.csv', index=False)"
   ]
  },
  {
   "cell_type": "code",
   "execution_count": 78,
   "metadata": {
    "ExecuteTime": {
     "end_time": "2021-04-20T08:30:37.825172Z",
     "start_time": "2021-04-20T08:30:37.568344Z"
    }
   },
   "outputs": [
    {
     "data": {
      "text/plain": [
       "['https://www.latimes.com/entertainment-arts/music/pf-si60k9nm-123',\n",
       " 'https://www.latimes.com/entertainment-arts/music/gs069dndiyk-123',\n",
       " 'https://www.latimes.com/entertainment-arts/music/bw8-brnbv-q-123',\n",
       " 'https://www.latimes.com/california/story/2021-04-01/mass-vaccination-site-at-cal-state-l-a-will-stay-open-managed-by-the-city-of-l-a',\n",
       " 'https://www.latimes.com/sports/ucla/story/2021-04-01/ucla-basketball-march-madness-martin-jarmond',\n",
       " 'https://www.latimes.com/sports/chargers/story/2021-04-01/jeff-bezos-chargers',\n",
       " 'https://www.latimes.com/california/story/2021-04-01/california-new-attorney-general-faces-major-challenges-rob-bonta',\n",
       " 'https://www.latimes.com/business/story/2021-04-01/wall-street-closes-higher-pushing-s-p-500-past-4-000-points',\n",
       " 'https://www.latimes.com/california/story/2021-04-01/half-of-california-bachelors-degrees-are-awarded-by-cal-state-report-says',\n",
       " 'https://www.latimes.com/sports/dodgers/story/2021-04-01/dodgers-cody-bellinger-is-robbed-of-home-run-by-teammate-justin-turner',\n",
       " 'https://www.latimes.com/entertainment-arts/tv/story/2021-04-01/the-united-states-of-al-icbs-trailer-controversy-commentary',\n",
       " 'https://www.latimes.com/entertainment-arts/movies/story/2021-04-01/laemmle-theaters-reopen',\n",
       " 'https://www.latimes.com/entertainment-arts/story/2021-04-01/bryan-callen-drops-lawsuit-gabriel-katherine-tigerman-rape',\n",
       " 'https://www.latimes.com/sports/angels/story/2021-04-01/david-fletcher-agrees-to-five-year-extension-with-angels',\n",
       " 'https://www.latimes.com/entertainment-arts/story/2021-04-01/lucas-museum-opening-date-2023-covid-construction',\n",
       " 'https://www.latimes.com/travel/story/2021-04-01/las-vegas-reopening-update-hotels-casinos-entertainment',\n",
       " 'https://www.latimes.com/california/story/2021-04-01/30-of-californians-including-newsom-now-at-least-partially-vaccinated-against-covid-19',\n",
       " 'https://www.latimes.com/politics/story/2021-04-01/taxpayers-may-never-know-how-many-jobs-the-1-trillion-ppp-saved-the-government-didnt-keep-count',\n",
       " 'https://www.latimes.com/lifestyle/story/2021-04-01/how-to-find-native-milkweeds-monarch-butterflies',\n",
       " 'https://www.latimes.com/opinion/story/2021-04-01/opinion-l-a-wants-to-bulldoze-latino-neighborhoods-to-expand-a-freeway-biden-shouldnt-help',\n",
       " 'https://www.latimes.com/opinion/story/2021-04-01/letters-to-the-editor-the-war-on-trans',\n",
       " 'https://www.latimes.com/california/h24vmuclypa-123',\n",
       " 'https://www.latimes.com/sports/highschool/story/2021-04-01/high-school-football-this-weeks-top-game',\n",
       " 'https://www.latimes.com/world-nation/story/2021-04-01/california-court-says-usa-taekwondo-must-protect-athletes',\n",
       " 'https://www.latimes.com/california/story/2021-04-01/man-found-hanging-exposition-park-lapd-investigating',\n",
       " 'https://www.latimes.com/entertainment-arts/story/2021-04-01/mia-farrow-children-deaths',\n",
       " 'https://www.latimes.com/california/story/2021-04-01/boy-9-struck-in-orange-mass-shooting-died-in-arms-of-woman-trying-to-save-him-authorities-say',\n",
       " 'https://www.latimes.com/sports/chargers/story/2021-04-01/spanos-family-squabble-chargers-la',\n",
       " 'https://www.latimes.com/entertainment-arts/movies/story/2021-04-01/review-oscar-nominated-shorts-live-action-animation-documentary',\n",
       " 'https://www.latimes.com/business/real-estate/story/2021-04-01/lakers-gm-rob-pelinka-lists-newport-beach-retreat-for-3-95-million',\n",
       " 'https://www.latimes.com/business/real-estate/gallery/rob-pelinka-newport-beach-home',\n",
       " 'https://www.latimes.com/politics/0u3citrnfs8-123',\n",
       " 'https://www.latimes.com/sports/story/2021-04-01/wnba-sparks-jerseys-april-fools',\n",
       " 'https://www.latimes.com/opinion/story/2021-04-01/orange-mass-shooting-killings-gun-control',\n",
       " 'https://www.latimes.com/entertainment-arts/tv/story/2021-04-01/april-fools-day-rick-and-morty-adult-swim-junior',\n",
       " 'https://www.latimes.com/sports/00000178-8e9c-db40-a178-febd9bfe0000-123',\n",
       " 'https://www.latimes.com/entertainment-arts/00000178-8e99-da0f-adf8-eeddc1d00000-123',\n",
       " 'https://www.latimes.com/california/00000178-8e9a-d65a-ad7a-8efad46f0001-123',\n",
       " 'https://www.latimes.com/world-nation/00000178-8e98-db40-a178-feb955c90000-123',\n",
       " 'https://www.latimes.com/world-nation/story/2021-04-01/george-floyds-girlfriend-recounts-the-couples-drug-use',\n",
       " 'https://www.latimes.com/entertainment-arts/story/2021-04-01/what-to-watch-cynthia-erivo-aretha-jim-parsons-la-phil-easter',\n",
       " 'https://www.latimes.com/lifestyle/newsletter/2021-04-01/surfing-diversity-racism-towel-fishing-eastern-sierra-dark-sky-week-the-wild',\n",
       " 'https://www.latimes.com/world-nation/story/2021-04-01/hospital-workers-despair-as-frances-virus-strategy-flails',\n",
       " 'https://www.latimes.com/california/story/2021-04-01/photos-four-dead-in-orange-the-third-mass-shooting-in-the-united-states-in-the-last-two-weeks',\n",
       " 'https://www.latimes.com/sports/chargers/story/2021-04-01/dean-spanos-sister-asks-la-court-force-chargers-sale',\n",
       " 'https://www.latimes.com/sports/olympics/story/2021-04-01/olympic-ticket-refunds',\n",
       " 'https://www.latimes.com/california/story/2021-04-01/so-youre-eligible-for-the-vaccine-heres-how-to-try-and-get-one',\n",
       " 'https://www.latimes.com/entertainment-arts/music/cii6ruuycqa-123',\n",
       " 'https://www.latimes.com/entertainment-arts/music/story/2021-04-01/olivia-rodrigo-new-single-deja-vu',\n",
       " 'https://www.latimes.com/opinion/story/2021-04-01/state-vote-restrictions-congress-must-act-and-soon',\n",
       " 'https://www.latimes.com/entertainment-arts/movies/story/2021-04-01/review-the-unholy-horror-jeffrey-dean-morgan',\n",
       " 'https://www.latimes.com/entertainment-arts/story/2021-04-01/reckoning-with-history-and-equity-at-the-huntington-museum',\n",
       " 'https://www.latimes.com/world-nation/story/2021-04-01/north-carolina-hall-of-fame-coach-roy-williams-retiring',\n",
       " 'https://www.latimes.com/sports/highschool/story/2021-04-01/high-school-boys-and-girls-basketball-wednesdays-results',\n",
       " 'https://www.latimes.com/sports/highschool/story/2021-04-01/high-school-softball-wednesdays-results',\n",
       " 'https://www.latimes.com/sports/highschool/story/2021-04-01/high-school-baseball-wednesdays-results',\n",
       " 'https://www.latimes.com/world-nation/story/2021-04-01/biden-says-rangers-making-mistake-by-allowing-full-capacity',\n",
       " 'https://www.latimes.com/entertainment-arts/p8fvjm-5pgc-123',\n",
       " 'https://www.latimes.com/world-nation/newsletter/2021-04-01/cesar-chavez-hero-latinx-files',\n",
       " 'https://www.latimes.com/california/story/2021-04-01/police-seek-answers-after-gunman-kills-4-including-child-in-orange-mass-shooting',\n",
       " 'https://www.latimes.com/world-nation/story/2021-04-01/pink-cake-on-canals-amsterdam-celebrates-same-sex-weddings',\n",
       " 'https://www.latimes.com/sports/dodgers/liveblog/dodgers-rockies-season-opener-live-updates-news-score',\n",
       " 'https://www.latimes.com/entertainment-arts/books/story/2021-04-01/cynthia-daprix-sweeney-talks-about-her-novel-good-company',\n",
       " 'https://www.latimes.com/sports/newsletter/2021-04-01/win-the-nl-west-dodgers-dugout',\n",
       " 'https://www.latimes.com/food/story/2021-04-01/how-tiktok-cooking-stars-are-defying-traditional-career-path',\n",
       " 'https://www.latimes.com/sports/usc/story/2021-04-01/usc-basketball-ncaa-tournament-evan-mobley',\n",
       " 'https://www.latimes.com/entertainment-arts/books/story/2021-04-01/review-haruki-murakami-first-person-singluar-misogyny',\n",
       " 'https://www.latimes.com/travel/newsletter/2021-04-01/la-tr-escapes-20200401-escapes',\n",
       " 'https://www.latimes.com/sports/highschool/00000178-6bab-da9d-a17a-7fff3fa20000-123',\n",
       " 'https://www.latimes.com/entertainment-arts/movies/story/2021-04-01/review-shiva-baby-jewish-comedy',\n",
       " 'https://www.latimes.com/entertainment-arts/movies/story/2021-04-01/review-this-is-not-burial-its-resurrection-lesotho',\n",
       " 'https://www.latimes.com/california/story/2021-04-01/earthquake-3-2-quake-reported-in-huntington-park',\n",
       " 'https://www.latimes.com/entertainment-arts/business/story/2021-04-01/derek-chauvin-trial-brings-court-tv-to-a-new-generation',\n",
       " 'https://www.latimes.com/business/story/2021-04-01/stevie-ryan-death-nurse-practitioner',\n",
       " 'https://www.latimes.com/sports/ucla/story/2021-04-01/uclas-johnny-juzang-dreamed-of-something-like-this-but-not-this',\n",
       " 'https://www.latimes.com/entertainment-arts/tv/story/2021-04-01/country-comfort-kenan-punky-brewster-united-states-al-call-your-mother-the-crew',\n",
       " 'https://www.latimes.com/sports/highschool/story/2021-04-01/anthony-mercado-makes-comeback-coma-birmingham-soccer',\n",
       " 'https://www.latimes.com/environment/newsletter/2021-04-01/how-a-beachfront-gas-plant-explains-californias-energy-problems-boiling-point',\n",
       " 'https://www.latimes.com/sports/lakers/story/2021-04-01/lakers-andre-drummond-discusses-very-painful-toenail-loss',\n",
       " 'https://www.latimes.com/california/newsletter/2021-04-01/lapd-echo-park-response-scrutiny-essential-california',\n",
       " 'https://www.latimes.com/sports/dodgers/story/2021-04-01/dodgers-carry-momentum-into-opening-day-home-runs',\n",
       " 'https://www.latimes.com/sports/angels/story/2021-04-01/will-late-roster-upgrades-add-enough-fuel-to-propel-angels-playoffs',\n",
       " 'https://www.latimes.com/entertainment-arts/story/2021-04-01/lacma-demolition-reopening-yoshitomo-nara',\n",
       " 'https://www.latimes.com/world-nation/newsletter/2021-04-01/biden-infrastructure-plan-todays-headlines',\n",
       " 'https://www.latimes.com/california/story/2021-04-01/high-school-students-hesitant-as-students-reopen-amid-covid',\n",
       " 'https://www.latimes.com/california/story/2021-04-01/californias-clunky-my-turn-vaccine-website-faces-biggest-test-as-all-adults-become-eligible-can-it-handle-the-stress',\n",
       " 'https://www.latimes.com/world-nation/story/2021-04-01/new-gop-led-voting-restrictions-move-forward-texas',\n",
       " 'https://www.latimes.com/sports/rams/story/2021-04-01/rams-taylor-rapp-nft-chinese-americans',\n",
       " 'https://www.latimes.com/world-nation/story/2021-04-01/eu-says-no-evidence-restrict-use-astrazeneca-covid-vaccine',\n",
       " 'https://www.latimes.com/sports/angels/story/2021-04-01/albert-pujols-angels-future-plans-legacy',\n",
       " 'https://www.latimes.com/sports/story/2021-04-01/commentary-conservative-justices-dunk-on-ncaa-amateurism-rules-but-they-still-might-protect-them',\n",
       " 'https://www.latimes.com/opinion/story/2021-04-01/letters-to-the-editor-california-green-power-environment-battery-storage',\n",
       " 'https://www.latimes.com/opinion/story/2021-04-01/recall-newsom-democrats-unity',\n",
       " 'https://www.latimes.com/world-nation/story/2021-04-01/company-johnson-and-johnson-covid-vaccine-woes-citations',\n",
       " 'https://www.latimes.com/opinion/story/2021-04-01/vaccine-passports-coronavirus-twitter',\n",
       " 'https://www.latimes.com/opinion/story/2021-04-01/letters-to-the-editor-mitch-mcconnell-killed-bipartisanship-the-ball-is-in-his-court-if-he-wants-it-back',\n",
       " 'https://www.latimes.com/opinion/story/2021-04-01/letters-to-the-editor-to-help-fight-qanon-disinformation-bring-back-the-fairness-doctrine',\n",
       " 'https://www.latimes.com/opinion/story/2021-04-01/letters-to-the-editor-why-has-america-sustained-20-years-of-endless-war-a-spineless-congress',\n",
       " 'https://www.latimes.com/world-nation/story/2021-04-01/china-xinjiang-uyghur-han-censorship-nationalism',\n",
       " 'https://www.latimes.com/opinion/story/2021-04-01/editorial-pandemic-isnt-over-here-until-its-over-everywhere',\n",
       " 'https://www.latimes.com/opinion/story/2021-04-01/autopsy-records-bill-press-access',\n",
       " 'https://www.latimes.com/california/story/2021-04-01/sheriff-villanueva-will-not-reveal-cause-tiger-woods-crash',\n",
       " 'https://www.latimes.com/world-nation/story/2021-04-01/hong-kong-democracy-leaders-convicted-2019-protests',\n",
       " 'https://www.latimes.com/california/story/2021-04-01/skelton-ppic-poll-immigration-healthcare-california']"
      ]
     },
     "execution_count": 78,
     "metadata": {},
     "output_type": "execute_result"
    }
   ],
   "source": [
    "get_current_page_links('https://www.latimes.com/sitemap/2021/4?p=8')"
   ]
  },
  {
   "cell_type": "code",
   "execution_count": 72,
   "metadata": {
    "ExecuteTime": {
     "end_time": "2021-04-20T08:19:47.137258Z",
     "start_time": "2021-04-20T08:19:47.124833Z"
    }
   },
   "outputs": [],
   "source": [
    "headers={\n",
    "    'accept': '*/*',\n",
    "    'referer': 'https://www.latimes.com/sitemap/',\n",
    "    'user-agent': 'Mozilla/5.0 (X11; Linux x86_64) AppleWebKit/537.36 (KHTML, like Gecko) Chrome/88.0.4324.150 Safari/537.36'\n",
    "}\n",
    "\n",
    "def get_current_page_links(page):\n",
    "    try:\n",
    "        coverpage = requests.get(page,headers = headers).content\n",
    "        soup = BeautifulSoup(coverpage, 'html.parser')\n",
    "        body = soup.find_all('ul', {'class':'archive-page-menu'})[0]\n",
    "        href = body.find_all('a', href= True)\n",
    "        return [i['href'] for i in href]\n",
    "    except:\n",
    "        print(page)\n",
    "        return"
   ]
  },
  {
   "cell_type": "code",
   "execution_count": 84,
   "metadata": {
    "ExecuteTime": {
     "end_time": "2021-04-20T08:35:10.752946Z",
     "start_time": "2021-04-20T08:31:58.113152Z"
    }
   },
   "outputs": [
    {
     "name": "stdout",
     "output_type": "stream",
     "text": [
      "INFO: Pandarallel will run on 32 workers.\n",
      "INFO: Pandarallel will use Memory file system to transfer data between the main process and workers.\n",
      "0,160,320,480,640,800,960,1120,1280,1440,1600,1760,1920,2080,2240,2400,2560,2720,2880,3040,3200,3360,3520,3680,3840,4000,4160,4320,4480,4640,4800,4960,5120,5280,5440,5600,5760,5920,6080,6240,6400,6560,6720,6880,7040,7200,7360,7520,7680,7840,8000,8160,8320,8480,8640,8800,8960,9120,9280,9440,9600,9760,9920,10080,10240,10400,10560,10720,10880,11040,11200,https://www.latimes.com/sitemap/2017/3?p=2\n",
      "11360,11520,11680,11840,12000,"
     ]
    }
   ],
   "source": [
    "pandarallel.initialize(nb_workers=32, progress_bar=False)\n",
    "batch_size = 32*5\n",
    "i=0\n",
    "while i < df.shape[0]:\n",
    "    print(i, end=',')\n",
    "    df.loc[i: i+ batch_size-1,'links']=\\\n",
    "    df.loc[i: i+ batch_size-1, 'more_pages'].parallel_apply(get_current_page_links).values\n",
    "    i += batch_size"
   ]
  },
  {
   "cell_type": "code",
   "execution_count": 98,
   "metadata": {
    "ExecuteTime": {
     "end_time": "2021-04-20T08:48:06.762864Z",
     "start_time": "2021-04-20T08:48:01.271076Z"
    }
   },
   "outputs": [],
   "source": [
    "df.to_csv('latimes_2.csv', index=False)"
   ]
  },
  {
   "cell_type": "code",
   "execution_count": 2,
   "metadata": {
    "ExecuteTime": {
     "end_time": "2021-04-20T09:00:07.688689Z",
     "start_time": "2021-04-20T09:00:05.752671Z"
    },
    "scrolled": true
   },
   "outputs": [
    {
     "data": {
      "text/html": [
       "<div>\n",
       "<style scoped>\n",
       "    .dataframe tbody tr th:only-of-type {\n",
       "        vertical-align: middle;\n",
       "    }\n",
       "\n",
       "    .dataframe tbody tr th {\n",
       "        vertical-align: top;\n",
       "    }\n",
       "\n",
       "    .dataframe thead th {\n",
       "        text-align: right;\n",
       "    }\n",
       "</style>\n",
       "<table border=\"1\" class=\"dataframe\">\n",
       "  <thead>\n",
       "    <tr style=\"text-align: right;\">\n",
       "      <th></th>\n",
       "      <th>year</th>\n",
       "      <th>month</th>\n",
       "      <th>page</th>\n",
       "      <th>more_pages</th>\n",
       "      <th>links</th>\n",
       "    </tr>\n",
       "  </thead>\n",
       "  <tbody>\n",
       "    <tr>\n",
       "      <th>0</th>\n",
       "      <td>1914</td>\n",
       "      <td>12</td>\n",
       "      <td>https://www.latimes.com/sitemap/1914/12</td>\n",
       "      <td>https://www.latimes.com/sitemap/1914/12#</td>\n",
       "      <td>['https://www.latimes.com/local/obituaries/archives/la-me-john-muir-19141225-story.html']</td>\n",
       "    </tr>\n",
       "    <tr>\n",
       "      <th>1</th>\n",
       "      <td>1915</td>\n",
       "      <td>5</td>\n",
       "      <td>https://www.latimes.com/sitemap/1915/5</td>\n",
       "      <td>https://www.latimes.com/sitemap/1915/5#</td>\n",
       "      <td>['https://www.latimes.com/local/obituaries/archives/la-me-ac-bilicke-19150508-story.html']</td>\n",
       "    </tr>\n",
       "    <tr>\n",
       "      <th>2</th>\n",
       "      <td>1919</td>\n",
       "      <td>10</td>\n",
       "      <td>https://www.latimes.com/sitemap/1919/10</td>\n",
       "      <td>https://www.latimes.com/sitemap/1919/10#</td>\n",
       "      <td>['https://www.latimes.com/entertainment/arts/laphil/la-et-cm-la-phil-review-walter-rothwell-19191025-story.html']</td>\n",
       "    </tr>\n",
       "    <tr>\n",
       "      <th>3</th>\n",
       "      <td>1923</td>\n",
       "      <td>3</td>\n",
       "      <td>https://www.latimes.com/sitemap/1923/3</td>\n",
       "      <td>https://www.latimes.com/sitemap/1923/3#</td>\n",
       "      <td>['https://www.latimes.com/local/obituaries/archives/la-me-sarah-bernhardt-19230328-story.html']</td>\n",
       "    </tr>\n",
       "    <tr>\n",
       "      <th>4</th>\n",
       "      <td>1926</td>\n",
       "      <td>11</td>\n",
       "      <td>https://www.latimes.com/sitemap/1926/11</td>\n",
       "      <td>https://www.latimes.com/sitemap/1926/11#</td>\n",
       "      <td>['https://www.latimes.com/local/obituaries/archives/la-me-harry-houdini-19261101-story.html', 'https://www.latimes.com/la-me-harry-houdinis-death-20151026-htmlstory.html']</td>\n",
       "    </tr>\n",
       "    <tr>\n",
       "      <th>...</th>\n",
       "      <td>...</td>\n",
       "      <td>...</td>\n",
       "      <td>...</td>\n",
       "      <td>...</td>\n",
       "      <td>...</td>\n",
       "    </tr>\n",
       "    <tr>\n",
       "      <th>12084</th>\n",
       "      <td>2021</td>\n",
       "      <td>4</td>\n",
       "      <td>https://www.latimes.com/sitemap/2021/4</td>\n",
       "      <td>https://www.latimes.com/sitemap/2021/4?p=4</td>\n",
       "      <td>['https://www.latimes.com/entertainment-arts/story/2021-04-12/prince-philip-death-meghan-markle-prince-harry-statement', 'https://www.latimes.com/sports/highschool/story/2021-04-12/cif-southern-section-will-hold-playoffs-spring-sports', 'https://www.latimes.com/california/story/2021-04-12/covid-vaccine-appointments-expand-chinatown-east-la', 'https://www.latimes.com/california/story/2021-04-12/what-to-know-la-opens-covid-19-vaccine-16-and-up', 'https://www.latimes.com/entertainment-arts/awards/story/2021-04-12/two-strangers-come-together-with-the-personal-and-particular-with-minari', 'http...</td>\n",
       "    </tr>\n",
       "    <tr>\n",
       "      <th>12085</th>\n",
       "      <td>2021</td>\n",
       "      <td>4</td>\n",
       "      <td>https://www.latimes.com/sitemap/2021/4</td>\n",
       "      <td>https://www.latimes.com/sitemap/2021/4?p=5</td>\n",
       "      <td>['https://www.latimes.com/business/story/2021-04-09/amazon-union-vote', 'https://www.latimes.com/lifestyle/story/2021-04-09/hiking-after-miscarriage-how-la-trails-eased-grief', 'https://www.latimes.com/travel/story/2021-04-09/palm-springs-driving-tour', 'https://www.latimes.com/california/story/2021-04-09/burbank-restaurant-repeatedly-defies-covid-closure-orders', 'https://www.latimes.com/sports/dodgers/liveblog/dodgers-washington-nationals-live-updates-news-score-mlb', 'https://www.latimes.com/sports/story/2021-04-09/everybody-wants-to-have-a-hero-fernandomania-at-40', 'https://www.latime...</td>\n",
       "    </tr>\n",
       "    <tr>\n",
       "      <th>12086</th>\n",
       "      <td>2021</td>\n",
       "      <td>4</td>\n",
       "      <td>https://www.latimes.com/sitemap/2021/4</td>\n",
       "      <td>https://www.latimes.com/sitemap/2021/4?p=6</td>\n",
       "      <td>['https://www.latimes.com/opinion/story/2021-04-07/china-xinjiang-human-rights-sanctions-boycotts', 'https://www.latimes.com/opinion/story/2021-04-07/census-differential-privacy-trump-biden-congress', 'https://www.latimes.com/opinion/story/2021-04-07/mountain-lions-killed-on-roads', 'https://www.latimes.com/opinion/story/2021-04-07/boyle-heights-sears-ticket-to-the-middle-class', 'https://www.latimes.com/opinion/story/2021-04-07/gop-vaccine-passports-womens-rights-abortion', 'https://www.latimes.com/opinion/story/2021-04-07/pandemic-close-educational-divides', 'https://www.latimes.com/opin...</td>\n",
       "    </tr>\n",
       "    <tr>\n",
       "      <th>12087</th>\n",
       "      <td>2021</td>\n",
       "      <td>4</td>\n",
       "      <td>https://www.latimes.com/sitemap/2021/4</td>\n",
       "      <td>https://www.latimes.com/sitemap/2021/4?p=7</td>\n",
       "      <td>['https://www.latimes.com/world-nation/story/2021-04-04/jordan-former-crown-prince-accused-of-targeting-kingdom-stability', 'https://www.latimes.com/sports/ucla/story/2021-04-04/buzzer-beaters-during-ucla-coach-mick-cronins-tenure-win-some-lose-some', 'https://www.latimes.com/sports/highschool/story/2021-04-04/la-times-high-school-baseball-rankings', 'https://www.latimes.com/entertainment-arts/tv/story/2021-04-04/snl-daniel-kaluuya-matt-gaetz-lil-nas-x-david-dobrik', 'https://www.latimes.com/entertainment-arts/uvo-6rgsiyi-123', 'https://www.latimes.com/entertainment-arts/vu1awct1cps-123', ...</td>\n",
       "    </tr>\n",
       "    <tr>\n",
       "      <th>12088</th>\n",
       "      <td>2021</td>\n",
       "      <td>4</td>\n",
       "      <td>https://www.latimes.com/sitemap/2021/4</td>\n",
       "      <td>https://www.latimes.com/sitemap/2021/4?p=8</td>\n",
       "      <td>['https://www.latimes.com/entertainment-arts/music/pf-si60k9nm-123', 'https://www.latimes.com/entertainment-arts/music/gs069dndiyk-123', 'https://www.latimes.com/entertainment-arts/music/bw8-brnbv-q-123', 'https://www.latimes.com/california/story/2021-04-01/mass-vaccination-site-at-cal-state-l-a-will-stay-open-managed-by-the-city-of-l-a', 'https://www.latimes.com/sports/ucla/story/2021-04-01/ucla-basketball-march-madness-martin-jarmond', 'https://www.latimes.com/sports/chargers/story/2021-04-01/jeff-bezos-chargers', 'https://www.latimes.com/california/story/2021-04-01/california-new-attorn...</td>\n",
       "    </tr>\n",
       "  </tbody>\n",
       "</table>\n",
       "<p>12089 rows × 5 columns</p>\n",
       "</div>"
      ],
      "text/plain": [
       "       year  month                                     page  \\\n",
       "0      1914     12  https://www.latimes.com/sitemap/1914/12   \n",
       "1      1915      5   https://www.latimes.com/sitemap/1915/5   \n",
       "2      1919     10  https://www.latimes.com/sitemap/1919/10   \n",
       "3      1923      3   https://www.latimes.com/sitemap/1923/3   \n",
       "4      1926     11  https://www.latimes.com/sitemap/1926/11   \n",
       "...     ...    ...                                      ...   \n",
       "12084  2021      4   https://www.latimes.com/sitemap/2021/4   \n",
       "12085  2021      4   https://www.latimes.com/sitemap/2021/4   \n",
       "12086  2021      4   https://www.latimes.com/sitemap/2021/4   \n",
       "12087  2021      4   https://www.latimes.com/sitemap/2021/4   \n",
       "12088  2021      4   https://www.latimes.com/sitemap/2021/4   \n",
       "\n",
       "                                       more_pages  \\\n",
       "0        https://www.latimes.com/sitemap/1914/12#   \n",
       "1         https://www.latimes.com/sitemap/1915/5#   \n",
       "2        https://www.latimes.com/sitemap/1919/10#   \n",
       "3         https://www.latimes.com/sitemap/1923/3#   \n",
       "4        https://www.latimes.com/sitemap/1926/11#   \n",
       "...                                           ...   \n",
       "12084  https://www.latimes.com/sitemap/2021/4?p=4   \n",
       "12085  https://www.latimes.com/sitemap/2021/4?p=5   \n",
       "12086  https://www.latimes.com/sitemap/2021/4?p=6   \n",
       "12087  https://www.latimes.com/sitemap/2021/4?p=7   \n",
       "12088  https://www.latimes.com/sitemap/2021/4?p=8   \n",
       "\n",
       "                                                                                                                                                                                                                                                                                                                                                                                                                                                                                                                                                                                                                         links  \n",
       "0                                                                                                                                                                                                                                                                                                                                                                                                                                                                                                                                    ['https://www.latimes.com/local/obituaries/archives/la-me-john-muir-19141225-story.html']  \n",
       "1                                                                                                                                                                                                                                                                                                                                                                                                                                                                                                                                   ['https://www.latimes.com/local/obituaries/archives/la-me-ac-bilicke-19150508-story.html']  \n",
       "2                                                                                                                                                                                                                                                                                                                                                                                                                                                                                                            ['https://www.latimes.com/entertainment/arts/laphil/la-et-cm-la-phil-review-walter-rothwell-19191025-story.html']  \n",
       "3                                                                                                                                                                                                                                                                                                                                                                                                                                                                                                                              ['https://www.latimes.com/local/obituaries/archives/la-me-sarah-bernhardt-19230328-story.html']  \n",
       "4                                                                                                                                                                                                                                                                                                                                                                                                                                                  ['https://www.latimes.com/local/obituaries/archives/la-me-harry-houdini-19261101-story.html', 'https://www.latimes.com/la-me-harry-houdinis-death-20151026-htmlstory.html']  \n",
       "...                                                                                                                                                                                                                                                                                                                                                                                                                                                                                                                                                                                                                        ...  \n",
       "12084  ['https://www.latimes.com/entertainment-arts/story/2021-04-12/prince-philip-death-meghan-markle-prince-harry-statement', 'https://www.latimes.com/sports/highschool/story/2021-04-12/cif-southern-section-will-hold-playoffs-spring-sports', 'https://www.latimes.com/california/story/2021-04-12/covid-vaccine-appointments-expand-chinatown-east-la', 'https://www.latimes.com/california/story/2021-04-12/what-to-know-la-opens-covid-19-vaccine-16-and-up', 'https://www.latimes.com/entertainment-arts/awards/story/2021-04-12/two-strangers-come-together-with-the-personal-and-particular-with-minari', 'http...  \n",
       "12085  ['https://www.latimes.com/business/story/2021-04-09/amazon-union-vote', 'https://www.latimes.com/lifestyle/story/2021-04-09/hiking-after-miscarriage-how-la-trails-eased-grief', 'https://www.latimes.com/travel/story/2021-04-09/palm-springs-driving-tour', 'https://www.latimes.com/california/story/2021-04-09/burbank-restaurant-repeatedly-defies-covid-closure-orders', 'https://www.latimes.com/sports/dodgers/liveblog/dodgers-washington-nationals-live-updates-news-score-mlb', 'https://www.latimes.com/sports/story/2021-04-09/everybody-wants-to-have-a-hero-fernandomania-at-40', 'https://www.latime...  \n",
       "12086  ['https://www.latimes.com/opinion/story/2021-04-07/china-xinjiang-human-rights-sanctions-boycotts', 'https://www.latimes.com/opinion/story/2021-04-07/census-differential-privacy-trump-biden-congress', 'https://www.latimes.com/opinion/story/2021-04-07/mountain-lions-killed-on-roads', 'https://www.latimes.com/opinion/story/2021-04-07/boyle-heights-sears-ticket-to-the-middle-class', 'https://www.latimes.com/opinion/story/2021-04-07/gop-vaccine-passports-womens-rights-abortion', 'https://www.latimes.com/opinion/story/2021-04-07/pandemic-close-educational-divides', 'https://www.latimes.com/opin...  \n",
       "12087  ['https://www.latimes.com/world-nation/story/2021-04-04/jordan-former-crown-prince-accused-of-targeting-kingdom-stability', 'https://www.latimes.com/sports/ucla/story/2021-04-04/buzzer-beaters-during-ucla-coach-mick-cronins-tenure-win-some-lose-some', 'https://www.latimes.com/sports/highschool/story/2021-04-04/la-times-high-school-baseball-rankings', 'https://www.latimes.com/entertainment-arts/tv/story/2021-04-04/snl-daniel-kaluuya-matt-gaetz-lil-nas-x-david-dobrik', 'https://www.latimes.com/entertainment-arts/uvo-6rgsiyi-123', 'https://www.latimes.com/entertainment-arts/vu1awct1cps-123', ...  \n",
       "12088  ['https://www.latimes.com/entertainment-arts/music/pf-si60k9nm-123', 'https://www.latimes.com/entertainment-arts/music/gs069dndiyk-123', 'https://www.latimes.com/entertainment-arts/music/bw8-brnbv-q-123', 'https://www.latimes.com/california/story/2021-04-01/mass-vaccination-site-at-cal-state-l-a-will-stay-open-managed-by-the-city-of-l-a', 'https://www.latimes.com/sports/ucla/story/2021-04-01/ucla-basketball-march-madness-martin-jarmond', 'https://www.latimes.com/sports/chargers/story/2021-04-01/jeff-bezos-chargers', 'https://www.latimes.com/california/story/2021-04-01/california-new-attorn...  \n",
       "\n",
       "[12089 rows x 5 columns]"
      ]
     },
     "execution_count": 2,
     "metadata": {},
     "output_type": "execute_result"
    }
   ],
   "source": [
    "df= pd.read_csv('latimes_2.csv', header=0)\n",
    "df"
   ]
  },
  {
   "cell_type": "markdown",
   "metadata": {},
   "source": [
    "# step 2"
   ]
  },
  {
   "cell_type": "code",
   "execution_count": 3,
   "metadata": {
    "ExecuteTime": {
     "end_time": "2021-04-20T09:00:16.793060Z",
     "start_time": "2021-04-20T09:00:10.797213Z"
    }
   },
   "outputs": [
    {
     "data": {
      "text/html": [
       "<div>\n",
       "<style scoped>\n",
       "    .dataframe tbody tr th:only-of-type {\n",
       "        vertical-align: middle;\n",
       "    }\n",
       "\n",
       "    .dataframe tbody tr th {\n",
       "        vertical-align: top;\n",
       "    }\n",
       "\n",
       "    .dataframe thead th {\n",
       "        text-align: right;\n",
       "    }\n",
       "</style>\n",
       "<table border=\"1\" class=\"dataframe\">\n",
       "  <thead>\n",
       "    <tr style=\"text-align: right;\">\n",
       "      <th></th>\n",
       "      <th>year</th>\n",
       "      <th>month</th>\n",
       "      <th>page</th>\n",
       "      <th>more_pages</th>\n",
       "      <th>links</th>\n",
       "    </tr>\n",
       "  </thead>\n",
       "  <tbody>\n",
       "    <tr>\n",
       "      <th>0</th>\n",
       "      <td>1914</td>\n",
       "      <td>12</td>\n",
       "      <td>https://www.latimes.com/sitemap/1914/12</td>\n",
       "      <td>https://www.latimes.com/sitemap/1914/12#</td>\n",
       "      <td>https://www.latimes.com/local/obituaries/archives/la-me-john-muir-19141225-story.html</td>\n",
       "    </tr>\n",
       "    <tr>\n",
       "      <th>1</th>\n",
       "      <td>1915</td>\n",
       "      <td>5</td>\n",
       "      <td>https://www.latimes.com/sitemap/1915/5</td>\n",
       "      <td>https://www.latimes.com/sitemap/1915/5#</td>\n",
       "      <td>https://www.latimes.com/local/obituaries/archives/la-me-ac-bilicke-19150508-story.html</td>\n",
       "    </tr>\n",
       "    <tr>\n",
       "      <th>2</th>\n",
       "      <td>1919</td>\n",
       "      <td>10</td>\n",
       "      <td>https://www.latimes.com/sitemap/1919/10</td>\n",
       "      <td>https://www.latimes.com/sitemap/1919/10#</td>\n",
       "      <td>https://www.latimes.com/entertainment/arts/laphil/la-et-cm-la-phil-review-walter-rothwell-19191025-story.html</td>\n",
       "    </tr>\n",
       "    <tr>\n",
       "      <th>3</th>\n",
       "      <td>1923</td>\n",
       "      <td>3</td>\n",
       "      <td>https://www.latimes.com/sitemap/1923/3</td>\n",
       "      <td>https://www.latimes.com/sitemap/1923/3#</td>\n",
       "      <td>https://www.latimes.com/local/obituaries/archives/la-me-sarah-bernhardt-19230328-story.html</td>\n",
       "    </tr>\n",
       "    <tr>\n",
       "      <th>4</th>\n",
       "      <td>1926</td>\n",
       "      <td>11</td>\n",
       "      <td>https://www.latimes.com/sitemap/1926/11</td>\n",
       "      <td>https://www.latimes.com/sitemap/1926/11#</td>\n",
       "      <td>https://www.latimes.com/local/obituaries/archives/la-me-harry-houdini-19261101-story.html</td>\n",
       "    </tr>\n",
       "    <tr>\n",
       "      <th>...</th>\n",
       "      <td>...</td>\n",
       "      <td>...</td>\n",
       "      <td>...</td>\n",
       "      <td>...</td>\n",
       "      <td>...</td>\n",
       "    </tr>\n",
       "    <tr>\n",
       "      <th>3521782</th>\n",
       "      <td>2021</td>\n",
       "      <td>4</td>\n",
       "      <td>https://www.latimes.com/sitemap/2021/4</td>\n",
       "      <td>https://www.latimes.com/sitemap/2021/4?p=8</td>\n",
       "      <td>https://www.latimes.com/opinion/story/2021-04-01/editorial-pandemic-isnt-over-here-until-its-over-everywhere</td>\n",
       "    </tr>\n",
       "    <tr>\n",
       "      <th>3521783</th>\n",
       "      <td>2021</td>\n",
       "      <td>4</td>\n",
       "      <td>https://www.latimes.com/sitemap/2021/4</td>\n",
       "      <td>https://www.latimes.com/sitemap/2021/4?p=8</td>\n",
       "      <td>https://www.latimes.com/opinion/story/2021-04-01/autopsy-records-bill-press-access</td>\n",
       "    </tr>\n",
       "    <tr>\n",
       "      <th>3521784</th>\n",
       "      <td>2021</td>\n",
       "      <td>4</td>\n",
       "      <td>https://www.latimes.com/sitemap/2021/4</td>\n",
       "      <td>https://www.latimes.com/sitemap/2021/4?p=8</td>\n",
       "      <td>https://www.latimes.com/california/story/2021-04-01/sheriff-villanueva-will-not-reveal-cause-tiger-woods-crash</td>\n",
       "    </tr>\n",
       "    <tr>\n",
       "      <th>3521785</th>\n",
       "      <td>2021</td>\n",
       "      <td>4</td>\n",
       "      <td>https://www.latimes.com/sitemap/2021/4</td>\n",
       "      <td>https://www.latimes.com/sitemap/2021/4?p=8</td>\n",
       "      <td>https://www.latimes.com/world-nation/story/2021-04-01/hong-kong-democracy-leaders-convicted-2019-protests</td>\n",
       "    </tr>\n",
       "    <tr>\n",
       "      <th>3521786</th>\n",
       "      <td>2021</td>\n",
       "      <td>4</td>\n",
       "      <td>https://www.latimes.com/sitemap/2021/4</td>\n",
       "      <td>https://www.latimes.com/sitemap/2021/4?p=8</td>\n",
       "      <td>https://www.latimes.com/california/story/2021-04-01/skelton-ppic-poll-immigration-healthcare-california</td>\n",
       "    </tr>\n",
       "  </tbody>\n",
       "</table>\n",
       "<p>3521787 rows × 5 columns</p>\n",
       "</div>"
      ],
      "text/plain": [
       "         year  month                                     page  \\\n",
       "0        1914     12  https://www.latimes.com/sitemap/1914/12   \n",
       "1        1915      5   https://www.latimes.com/sitemap/1915/5   \n",
       "2        1919     10  https://www.latimes.com/sitemap/1919/10   \n",
       "3        1923      3   https://www.latimes.com/sitemap/1923/3   \n",
       "4        1926     11  https://www.latimes.com/sitemap/1926/11   \n",
       "...       ...    ...                                      ...   \n",
       "3521782  2021      4   https://www.latimes.com/sitemap/2021/4   \n",
       "3521783  2021      4   https://www.latimes.com/sitemap/2021/4   \n",
       "3521784  2021      4   https://www.latimes.com/sitemap/2021/4   \n",
       "3521785  2021      4   https://www.latimes.com/sitemap/2021/4   \n",
       "3521786  2021      4   https://www.latimes.com/sitemap/2021/4   \n",
       "\n",
       "                                         more_pages  \\\n",
       "0          https://www.latimes.com/sitemap/1914/12#   \n",
       "1           https://www.latimes.com/sitemap/1915/5#   \n",
       "2          https://www.latimes.com/sitemap/1919/10#   \n",
       "3           https://www.latimes.com/sitemap/1923/3#   \n",
       "4          https://www.latimes.com/sitemap/1926/11#   \n",
       "...                                             ...   \n",
       "3521782  https://www.latimes.com/sitemap/2021/4?p=8   \n",
       "3521783  https://www.latimes.com/sitemap/2021/4?p=8   \n",
       "3521784  https://www.latimes.com/sitemap/2021/4?p=8   \n",
       "3521785  https://www.latimes.com/sitemap/2021/4?p=8   \n",
       "3521786  https://www.latimes.com/sitemap/2021/4?p=8   \n",
       "\n",
       "                                                                                                                  links  \n",
       "0                                 https://www.latimes.com/local/obituaries/archives/la-me-john-muir-19141225-story.html  \n",
       "1                                https://www.latimes.com/local/obituaries/archives/la-me-ac-bilicke-19150508-story.html  \n",
       "2         https://www.latimes.com/entertainment/arts/laphil/la-et-cm-la-phil-review-walter-rothwell-19191025-story.html  \n",
       "3                           https://www.latimes.com/local/obituaries/archives/la-me-sarah-bernhardt-19230328-story.html  \n",
       "4                             https://www.latimes.com/local/obituaries/archives/la-me-harry-houdini-19261101-story.html  \n",
       "...                                                                                                                 ...  \n",
       "3521782    https://www.latimes.com/opinion/story/2021-04-01/editorial-pandemic-isnt-over-here-until-its-over-everywhere  \n",
       "3521783                              https://www.latimes.com/opinion/story/2021-04-01/autopsy-records-bill-press-access  \n",
       "3521784  https://www.latimes.com/california/story/2021-04-01/sheriff-villanueva-will-not-reveal-cause-tiger-woods-crash  \n",
       "3521785       https://www.latimes.com/world-nation/story/2021-04-01/hong-kong-democracy-leaders-convicted-2019-protests  \n",
       "3521786         https://www.latimes.com/california/story/2021-04-01/skelton-ppic-poll-immigration-healthcare-california  \n",
       "\n",
       "[3521787 rows x 5 columns]"
      ]
     },
     "execution_count": 3,
     "metadata": {},
     "output_type": "execute_result"
    }
   ],
   "source": [
    "df.links = df.links.apply(eval)\n",
    "df = df.explode('links').reset_index(drop=True)\n",
    "df"
   ]
  },
  {
   "cell_type": "code",
   "execution_count": 113,
   "metadata": {
    "ExecuteTime": {
     "end_time": "2021-04-20T08:53:12.053690Z",
     "start_time": "2021-04-20T08:53:11.875791Z"
    }
   },
   "outputs": [
    {
     "data": {
      "text/html": [
       "<div>\n",
       "<style scoped>\n",
       "    .dataframe tbody tr th:only-of-type {\n",
       "        vertical-align: middle;\n",
       "    }\n",
       "\n",
       "    .dataframe tbody tr th {\n",
       "        vertical-align: top;\n",
       "    }\n",
       "\n",
       "    .dataframe thead th {\n",
       "        text-align: right;\n",
       "    }\n",
       "</style>\n",
       "<table border=\"1\" class=\"dataframe\">\n",
       "  <thead>\n",
       "    <tr style=\"text-align: right;\">\n",
       "      <th></th>\n",
       "      <th>year</th>\n",
       "      <th>month</th>\n",
       "      <th>page</th>\n",
       "      <th>more_pages</th>\n",
       "      <th>links</th>\n",
       "    </tr>\n",
       "  </thead>\n",
       "  <tbody>\n",
       "  </tbody>\n",
       "</table>\n",
       "</div>"
      ],
      "text/plain": [
       "Empty DataFrame\n",
       "Columns: [year, month, page, more_pages, links]\n",
       "Index: []"
      ]
     },
     "execution_count": 113,
     "metadata": {},
     "output_type": "execute_result"
    }
   ],
   "source": [
    "df[df.links.isnull()]"
   ]
  },
  {
   "cell_type": "code",
   "execution_count": 2,
   "metadata": {
    "ExecuteTime": {
     "end_time": "2021-04-21T07:28:12.818586Z",
     "start_time": "2021-04-21T07:28:12.778656Z"
    }
   },
   "outputs": [],
   "source": [
    "with open('wiki_relevant.txt', 'r') as file:    \n",
    "    relevant_rules = file.read().split('\\n')\n",
    "relevant_rules = '\\\\b' + '|\\\\b'.join(relevant_rules)\n",
    "\n",
    "if relevant_rules.endswith('|\\\\b'):\n",
    "    relevant_rules =relevant_rules[:-3]   \n",
    "\n",
    "relevant_rules = re.compile(relevant_rules, re.IGNORECASE)\n",
    "\n",
    "\n",
    "with open('irelevant_keywords.txt', 'r') as file:    \n",
    "    irelevant_rules = file.read().split('\\n')\n",
    "irelevant_rules = '\\\\b' + '|\\\\b'.join(irelevant_rules)\n",
    "\n",
    "if irelevant_rules.endswith('|\\\\b'):\n",
    "    irelevant_rules =irelevant_rules[:-3]   \n",
    "\n",
    "irelevant_rules = re.compile(irelevant_rules, re.IGNORECASE)\n",
    "\n",
    "find_relevant = lambda x: dict(Counter(relevant_rules.findall(str(x).lower())))\n",
    "find_exclude = lambda x: dict(Counter(irelevant_rules.findall(str(x).lower())))"
   ]
  },
  {
   "cell_type": "code",
   "execution_count": 5,
   "metadata": {
    "ExecuteTime": {
     "end_time": "2021-04-20T09:01:10.075436Z",
     "start_time": "2021-04-20T09:01:10.009749Z"
    }
   },
   "outputs": [],
   "source": [
    "df['title_in'], df['title_out'] = None, None"
   ]
  },
  {
   "cell_type": "code",
   "execution_count": 6,
   "metadata": {
    "ExecuteTime": {
     "end_time": "2021-04-20T09:03:11.545051Z",
     "start_time": "2021-04-20T09:01:11.848028Z"
    }
   },
   "outputs": [
    {
     "data": {
      "text/plain": [
       "(505224,)"
      ]
     },
     "execution_count": 6,
     "metadata": {},
     "output_type": "execute_result"
    }
   ],
   "source": [
    "\n",
    "\n",
    "df['title_in'] = df['links'].parallel_apply(find_relevant)\n",
    "df['title_out'] = df['links'].parallel_apply(find_exclude)\n",
    "\n",
    "head_in = df['title_in'].str.len()\n",
    "head_out = df['title_out'].str.len()\n",
    "\n",
    "remove_index =\\\n",
    "    ((head_in ==0) & ( head_out > 0)) |\\\n",
    "    ((head_in > 0) & ( head_out > 1))\n",
    "\n",
    "remove_index = df[remove_index== True].index\n",
    "remove_index.shape"
   ]
  },
  {
   "cell_type": "code",
   "execution_count": 7,
   "metadata": {
    "ExecuteTime": {
     "end_time": "2021-04-20T09:03:26.796176Z",
     "start_time": "2021-04-20T09:03:11.548832Z"
    }
   },
   "outputs": [],
   "source": [
    "df = df[~df.index.isin(remove_index)].reset_index(drop=True)\n",
    "df.to_csv('latimes_3.csv', index=False)"
   ]
  },
  {
   "cell_type": "code",
   "execution_count": 21,
   "metadata": {
    "ExecuteTime": {
     "end_time": "2021-04-20T09:13:34.741089Z",
     "start_time": "2021-04-20T09:13:28.879554Z"
    }
   },
   "outputs": [
    {
     "data": {
      "text/html": [
       "<div>\n",
       "<style scoped>\n",
       "    .dataframe tbody tr th:only-of-type {\n",
       "        vertical-align: middle;\n",
       "    }\n",
       "\n",
       "    .dataframe tbody tr th {\n",
       "        vertical-align: top;\n",
       "    }\n",
       "\n",
       "    .dataframe thead th {\n",
       "        text-align: right;\n",
       "    }\n",
       "</style>\n",
       "<table border=\"1\" class=\"dataframe\">\n",
       "  <thead>\n",
       "    <tr style=\"text-align: right;\">\n",
       "      <th></th>\n",
       "      <th>year</th>\n",
       "      <th>month</th>\n",
       "      <th>page</th>\n",
       "      <th>more_pages</th>\n",
       "      <th>links</th>\n",
       "      <th>title_in</th>\n",
       "      <th>title_out</th>\n",
       "    </tr>\n",
       "  </thead>\n",
       "  <tbody>\n",
       "    <tr>\n",
       "      <th>0</th>\n",
       "      <td>1926</td>\n",
       "      <td>11</td>\n",
       "      <td>https://www.latimes.com/sitemap/1926/11</td>\n",
       "      <td>https://www.latimes.com/sitemap/1926/11#</td>\n",
       "      <td>https://www.latimes.com/la-me-harry-houdinis-death-20151026-htmlstory.html</td>\n",
       "      <td>{'death': 1}</td>\n",
       "      <td>{}</td>\n",
       "    </tr>\n",
       "    <tr>\n",
       "      <th>1</th>\n",
       "      <td>1927</td>\n",
       "      <td>9</td>\n",
       "      <td>https://www.latimes.com/sitemap/1927/9</td>\n",
       "      <td>https://www.latimes.com/sitemap/1927/9#</td>\n",
       "      <td>https://www.latimes.com/la-isadora-duncans-death-20141120-htmlstory.html</td>\n",
       "      <td>{'death': 1}</td>\n",
       "      <td>{}</td>\n",
       "    </tr>\n",
       "    <tr>\n",
       "      <th>2</th>\n",
       "      <td>1930</td>\n",
       "      <td>8</td>\n",
       "      <td>https://www.latimes.com/sitemap/1930/8</td>\n",
       "      <td>https://www.latimes.com/sitemap/1930/8#</td>\n",
       "      <td>https://www.latimes.com/la-lon-chaneys-death-20150817-htmlstory.html</td>\n",
       "      <td>{'death': 1}</td>\n",
       "      <td>{}</td>\n",
       "    </tr>\n",
       "    <tr>\n",
       "      <th>3</th>\n",
       "      <td>1935</td>\n",
       "      <td>7</td>\n",
       "      <td>https://www.latimes.com/sitemap/1935/7</td>\n",
       "      <td>https://www.latimes.com/sitemap/1935/7#</td>\n",
       "      <td>https://www.latimes.com/la-william-mulhollands-death-htmlstory.html</td>\n",
       "      <td>{'death': 1}</td>\n",
       "      <td>{}</td>\n",
       "    </tr>\n",
       "    <tr>\n",
       "      <th>4</th>\n",
       "      <td>1936</td>\n",
       "      <td>1</td>\n",
       "      <td>https://www.latimes.com/sitemap/1936/1</td>\n",
       "      <td>https://www.latimes.com/sitemap/1936/1#</td>\n",
       "      <td>https://www.latimes.com/la-me-john-gilberts-death-20160104-htmlstory.html</td>\n",
       "      <td>{'death': 1}</td>\n",
       "      <td>{}</td>\n",
       "    </tr>\n",
       "    <tr>\n",
       "      <th>...</th>\n",
       "      <td>...</td>\n",
       "      <td>...</td>\n",
       "      <td>...</td>\n",
       "      <td>...</td>\n",
       "      <td>...</td>\n",
       "      <td>...</td>\n",
       "      <td>...</td>\n",
       "    </tr>\n",
       "    <tr>\n",
       "      <th>3016558</th>\n",
       "      <td>2021</td>\n",
       "      <td>4</td>\n",
       "      <td>https://www.latimes.com/sitemap/2021/4</td>\n",
       "      <td>https://www.latimes.com/sitemap/2021/4?p=8</td>\n",
       "      <td>https://www.latimes.com/opinion/story/2021-04-01/editorial-pandemic-isnt-over-here-until-its-over-everywhere</td>\n",
       "      <td>{}</td>\n",
       "      <td>{}</td>\n",
       "    </tr>\n",
       "    <tr>\n",
       "      <th>3016559</th>\n",
       "      <td>2021</td>\n",
       "      <td>4</td>\n",
       "      <td>https://www.latimes.com/sitemap/2021/4</td>\n",
       "      <td>https://www.latimes.com/sitemap/2021/4?p=8</td>\n",
       "      <td>https://www.latimes.com/opinion/story/2021-04-01/autopsy-records-bill-press-access</td>\n",
       "      <td>{}</td>\n",
       "      <td>{}</td>\n",
       "    </tr>\n",
       "    <tr>\n",
       "      <th>3016560</th>\n",
       "      <td>2021</td>\n",
       "      <td>4</td>\n",
       "      <td>https://www.latimes.com/sitemap/2021/4</td>\n",
       "      <td>https://www.latimes.com/sitemap/2021/4?p=8</td>\n",
       "      <td>https://www.latimes.com/california/story/2021-04-01/sheriff-villanueva-will-not-reveal-cause-tiger-woods-crash</td>\n",
       "      <td>{}</td>\n",
       "      <td>{}</td>\n",
       "    </tr>\n",
       "    <tr>\n",
       "      <th>3016561</th>\n",
       "      <td>2021</td>\n",
       "      <td>4</td>\n",
       "      <td>https://www.latimes.com/sitemap/2021/4</td>\n",
       "      <td>https://www.latimes.com/sitemap/2021/4?p=8</td>\n",
       "      <td>https://www.latimes.com/world-nation/story/2021-04-01/hong-kong-democracy-leaders-convicted-2019-protests</td>\n",
       "      <td>{'convict': 1, 'protest': 1}</td>\n",
       "      <td>{}</td>\n",
       "    </tr>\n",
       "    <tr>\n",
       "      <th>3016562</th>\n",
       "      <td>2021</td>\n",
       "      <td>4</td>\n",
       "      <td>https://www.latimes.com/sitemap/2021/4</td>\n",
       "      <td>https://www.latimes.com/sitemap/2021/4?p=8</td>\n",
       "      <td>https://www.latimes.com/california/story/2021-04-01/skelton-ppic-poll-immigration-healthcare-california</td>\n",
       "      <td>{}</td>\n",
       "      <td>{}</td>\n",
       "    </tr>\n",
       "  </tbody>\n",
       "</table>\n",
       "<p>3016563 rows × 7 columns</p>\n",
       "</div>"
      ],
      "text/plain": [
       "         year  month                                     page  \\\n",
       "0        1926     11  https://www.latimes.com/sitemap/1926/11   \n",
       "1        1927      9   https://www.latimes.com/sitemap/1927/9   \n",
       "2        1930      8   https://www.latimes.com/sitemap/1930/8   \n",
       "3        1935      7   https://www.latimes.com/sitemap/1935/7   \n",
       "4        1936      1   https://www.latimes.com/sitemap/1936/1   \n",
       "...       ...    ...                                      ...   \n",
       "3016558  2021      4   https://www.latimes.com/sitemap/2021/4   \n",
       "3016559  2021      4   https://www.latimes.com/sitemap/2021/4   \n",
       "3016560  2021      4   https://www.latimes.com/sitemap/2021/4   \n",
       "3016561  2021      4   https://www.latimes.com/sitemap/2021/4   \n",
       "3016562  2021      4   https://www.latimes.com/sitemap/2021/4   \n",
       "\n",
       "                                         more_pages  \\\n",
       "0          https://www.latimes.com/sitemap/1926/11#   \n",
       "1           https://www.latimes.com/sitemap/1927/9#   \n",
       "2           https://www.latimes.com/sitemap/1930/8#   \n",
       "3           https://www.latimes.com/sitemap/1935/7#   \n",
       "4           https://www.latimes.com/sitemap/1936/1#   \n",
       "...                                             ...   \n",
       "3016558  https://www.latimes.com/sitemap/2021/4?p=8   \n",
       "3016559  https://www.latimes.com/sitemap/2021/4?p=8   \n",
       "3016560  https://www.latimes.com/sitemap/2021/4?p=8   \n",
       "3016561  https://www.latimes.com/sitemap/2021/4?p=8   \n",
       "3016562  https://www.latimes.com/sitemap/2021/4?p=8   \n",
       "\n",
       "                                                                                                                  links  \\\n",
       "0                                            https://www.latimes.com/la-me-harry-houdinis-death-20151026-htmlstory.html   \n",
       "1                                              https://www.latimes.com/la-isadora-duncans-death-20141120-htmlstory.html   \n",
       "2                                                  https://www.latimes.com/la-lon-chaneys-death-20150817-htmlstory.html   \n",
       "3                                                   https://www.latimes.com/la-william-mulhollands-death-htmlstory.html   \n",
       "4                                             https://www.latimes.com/la-me-john-gilberts-death-20160104-htmlstory.html   \n",
       "...                                                                                                                 ...   \n",
       "3016558    https://www.latimes.com/opinion/story/2021-04-01/editorial-pandemic-isnt-over-here-until-its-over-everywhere   \n",
       "3016559                              https://www.latimes.com/opinion/story/2021-04-01/autopsy-records-bill-press-access   \n",
       "3016560  https://www.latimes.com/california/story/2021-04-01/sheriff-villanueva-will-not-reveal-cause-tiger-woods-crash   \n",
       "3016561       https://www.latimes.com/world-nation/story/2021-04-01/hong-kong-democracy-leaders-convicted-2019-protests   \n",
       "3016562         https://www.latimes.com/california/story/2021-04-01/skelton-ppic-poll-immigration-healthcare-california   \n",
       "\n",
       "                             title_in title_out  \n",
       "0                        {'death': 1}        {}  \n",
       "1                        {'death': 1}        {}  \n",
       "2                        {'death': 1}        {}  \n",
       "3                        {'death': 1}        {}  \n",
       "4                        {'death': 1}        {}  \n",
       "...                               ...       ...  \n",
       "3016558                            {}        {}  \n",
       "3016559                            {}        {}  \n",
       "3016560                            {}        {}  \n",
       "3016561  {'convict': 1, 'protest': 1}        {}  \n",
       "3016562                            {}        {}  \n",
       "\n",
       "[3016563 rows x 7 columns]"
      ]
     },
     "execution_count": 21,
     "metadata": {},
     "output_type": "execute_result"
    }
   ],
   "source": [
    "df= pd.read_csv('latimes_3.csv', header=0)\n",
    "df"
   ]
  },
  {
   "cell_type": "code",
   "execution_count": 22,
   "metadata": {
    "ExecuteTime": {
     "end_time": "2021-04-20T09:13:55.951977Z",
     "start_time": "2021-04-20T09:13:52.561494Z"
    },
    "collapsed": true
   },
   "outputs": [
    {
     "name": "stdout",
     "output_type": "stream",
     "text": [
      "INFO: Pandarallel will run on 40 workers.\n",
      "INFO: Pandarallel will use Memory file system to transfer data between the main process and workers.\n"
     ]
    },
    {
     "data": {
      "application/vnd.jupyter.widget-view+json": {
       "model_id": "95cf15dcc011406ba5b67eae548e76b9",
       "version_major": 2,
       "version_minor": 0
      },
      "text/plain": [
       "VBox(children=(HBox(children=(IntProgress(value=0, description='0.00%', max=1), Label(value='0 / 1'))), HBox(c…"
      ]
     },
     "metadata": {},
     "output_type": "display_data"
    }
   ],
   "source": [
    "num_chunks = 30\n",
    "df_save = np.array_split(df[['year', 'month','links']], num_chunks)\n",
    "save_chunks = lambda x: df_save[x].to_csv('latimes/%03d.csv'%x, index=False)\n",
    "pandarallel.initialize(progress_bar=True)       \n",
    "_ = pd.Series(range(num_chunks)).parallel_apply(save_chunks) "
   ]
  },
  {
   "cell_type": "code",
   "execution_count": 23,
   "metadata": {
    "ExecuteTime": {
     "end_time": "2021-04-20T09:13:59.813111Z",
     "start_time": "2021-04-20T09:13:59.655737Z"
    }
   },
   "outputs": [],
   "source": [
    "del df_save"
   ]
  },
  {
   "cell_type": "code",
   "execution_count": 2,
   "metadata": {
    "ExecuteTime": {
     "end_time": "2021-04-20T20:04:46.488919Z",
     "start_time": "2021-04-20T20:04:46.477585Z"
    }
   },
   "outputs": [],
   "source": [
    "headers={\n",
    "    'accept': '*/*',\n",
    "    'referer': 'https://www.latimes.com/sitemap/',\n",
    "    'user-agent': 'Mozilla/5.0 (X11; Linux x86_64) AppleWebKit/537.36 (KHTML, like Gecko) Chrome/88.0.4324.150 Safari/537.36'\n",
    "}\n",
    "   \n",
    "from newspaper import Article, Config\n",
    "\n",
    "user_agent = 'Mozilla/5.0 (Macintosh; Intel Mac OS X 10.15; rv:78.0) Gecko/20100101 Firefox/78.0'\n",
    "\n",
    "config = Config()\n",
    "config.browser_user_agent = user_agent\n",
    "config.request_timeout = 10\n",
    "\n",
    "def extract_story(url):\n",
    "    try:\n",
    "        article = Article(url,config= config)\n",
    "        article.download()\n",
    "        article.parse()\n",
    "        return article.text\n",
    "    except:\n",
    "        print('error %s'%url)\n",
    "        return"
   ]
  },
  {
   "cell_type": "code",
   "execution_count": null,
   "metadata": {
    "ExecuteTime": {
     "start_time": "2021-04-20T09:14:17.722Z"
    }
   },
   "outputs": [
    {
     "name": "stdout",
     "output_type": "stream",
     "text": [
      "INFO: Pandarallel will run on 40 workers.\n",
      "INFO: Pandarallel will use Memory file system to transfer data between the main process and workers.\n",
      "\n",
      " ----------0 ------------\n"
     ]
    },
    {
     "data": {
      "application/vnd.jupyter.widget-view+json": {
       "model_id": "f3cfe43a53114ad7b06ced77e32fd310",
       "version_major": 2,
       "version_minor": 0
      },
      "text/plain": [
       "VBox(children=(HBox(children=(IntProgress(value=0, description='0.00%', max=2514), Label(value='0 / 2514'))), …"
      ]
     },
     "metadata": {},
     "output_type": "display_data"
    },
    {
     "name": "stdout",
     "output_type": "stream",
     "text": [
      "error https://www.latimes.com/archives/la-xpm-1985-03-29-me-20319-story.html\n",
      "error https://www.latimes.com/archives/la-xpm-1985-04-19-mn-14940-story.htmlerror https://www.latimes.com/archives/la-xpm-1985-10-06-re-5461-story.html\n",
      "\n",
      "error https://www.latimes.com/archives/la-xpm-1985-08-08-fi-3534-story.htmlerror https://www.latimes.com/archives/la-xpm-1985-02-28-mn-12740-story.htmlerror https://www.latimes.com/archives/la-xpm-1985-03-07-fi-34649-story.htmlerror https://www.latimes.com/archives/la-xpm-1985-07-04-ca-9305-story.htmlerror https://www.latimes.com/archives/la-xpm-1985-09-15-mn-23091-story.html\n",
      "\n",
      "\n",
      "\n",
      "\n",
      "error https://www.latimes.com/archives/la-xpm-1985-02-10-sp-3509-story.html\n",
      "error https://www.latimes.com/archives/la-xpm-1985-09-15-mn-23143-story.htmlerror https://www.latimes.com/archives/la-xpm-1985-09-22-bk-17912-story.html\n",
      "\n",
      "error https://www.latimes.com/archives/la-xpm-1985-09-30-vw-17707-story.html\n",
      "\n",
      " ----------1 ------------\n"
     ]
    },
    {
     "data": {
      "application/vnd.jupyter.widget-view+json": {
       "model_id": "af4e8b327b0246568b9b37905e1ef4a9",
       "version_major": 2,
       "version_minor": 0
      },
      "text/plain": [
       "VBox(children=(HBox(children=(IntProgress(value=0, description='0.00%', max=2514), Label(value='0 / 2514'))), …"
      ]
     },
     "metadata": {},
     "output_type": "display_data"
    },
    {
     "name": "stdout",
     "output_type": "stream",
     "text": [
      "error https://www.latimes.com/archives/la-xpm-1985-12-16-me-782-story.html\n",
      "error https://www.latimes.com/archives/la-xpm-1986-04-10-ga-3468-story.html\n",
      "\n",
      " ----------2 ------------\n"
     ]
    },
    {
     "data": {
      "application/vnd.jupyter.widget-view+json": {
       "model_id": "5545928c5ce342ad97d7f4088be569fe",
       "version_major": 2,
       "version_minor": 0
      },
      "text/plain": [
       "VBox(children=(HBox(children=(IntProgress(value=0, description='0.00%', max=2514), Label(value='0 / 2514'))), …"
      ]
     },
     "metadata": {},
     "output_type": "display_data"
    },
    {
     "name": "stdout",
     "output_type": "stream",
     "text": [
      "error https://www.latimes.com/archives/la-xpm-1987-02-15-me-3518-story.html\n",
      "\n",
      " ----------3 ------------\n"
     ]
    },
    {
     "data": {
      "application/vnd.jupyter.widget-view+json": {
       "model_id": "5fe5b03db9e24cbfbc8aed850f25f4f0",
       "version_major": 2,
       "version_minor": 0
      },
      "text/plain": [
       "VBox(children=(HBox(children=(IntProgress(value=0, description='0.00%', max=2514), Label(value='0 / 2514'))), …"
      ]
     },
     "metadata": {},
     "output_type": "display_data"
    },
    {
     "name": "stdout",
     "output_type": "stream",
     "text": [
      "error https://www.latimes.com/archives/la-xpm-1988-02-15-mn-28973-story.html\n",
      "\n",
      " ----------4 ------------\n"
     ]
    },
    {
     "data": {
      "application/vnd.jupyter.widget-view+json": {
       "model_id": "a17efa3ecf97481889c3ed1f9f70b56f",
       "version_major": 2,
       "version_minor": 0
      },
      "text/plain": [
       "VBox(children=(HBox(children=(IntProgress(value=0, description='0.00%', max=2514), Label(value='0 / 2514'))), …"
      ]
     },
     "metadata": {},
     "output_type": "display_data"
    },
    {
     "name": "stdout",
     "output_type": "stream",
     "text": [
      "error https://www.latimes.com/archives/la-xpm-1988-08-15-mn-370-story.html\n",
      "\n",
      " ----------5 ------------\n"
     ]
    },
    {
     "data": {
      "application/vnd.jupyter.widget-view+json": {
       "model_id": "e8c3bbb183eb47bfb9b27a22e23fe5b5",
       "version_major": 2,
       "version_minor": 0
      },
      "text/plain": [
       "VBox(children=(HBox(children=(IntProgress(value=0, description='0.00%', max=2514), Label(value='0 / 2514'))), …"
      ]
     },
     "metadata": {},
     "output_type": "display_data"
    },
    {
     "name": "stdout",
     "output_type": "stream",
     "text": [
      "error https://www.latimes.com/archives/la-xpm-1989-03-09-ca-1118-story.html\n",
      "error https://www.latimes.com/archives/la-xpm-1989-01-14-fi-338-story.html\n",
      "error https://www.latimes.com/archives/la-xpm-1989-06-09-sp-1436-story.html\n",
      "error https://www.latimes.com/archives/la-xpm-1989-08-06-sp-178-story.html\n",
      "\n",
      " ----------6 ------------\n"
     ]
    },
    {
     "data": {
      "application/vnd.jupyter.widget-view+json": {
       "model_id": "daea63e9cc374586ad4c686eeae902fe",
       "version_major": 2,
       "version_minor": 0
      },
      "text/plain": [
       "VBox(children=(HBox(children=(IntProgress(value=0, description='0.00%', max=2514), Label(value='0 / 2514'))), …"
      ]
     },
     "metadata": {},
     "output_type": "display_data"
    },
    {
     "name": "stdout",
     "output_type": "stream",
     "text": [
      "\n",
      " ----------7 ------------\n"
     ]
    },
    {
     "data": {
      "application/vnd.jupyter.widget-view+json": {
       "model_id": "ac0c3902453e4922ad6d8e59fe561f35",
       "version_major": 2,
       "version_minor": 0
      },
      "text/plain": [
       "VBox(children=(HBox(children=(IntProgress(value=0, description='0.00%', max=2514), Label(value='0 / 2514'))), …"
      ]
     },
     "metadata": {},
     "output_type": "display_data"
    },
    {
     "name": "stdout",
     "output_type": "stream",
     "text": [
      "error https://www.latimes.com/archives/la-xpm-1990-11-14-ca-4325-story.html\n",
      "\n",
      " ----------8 ------------\n"
     ]
    },
    {
     "data": {
      "application/vnd.jupyter.widget-view+json": {
       "model_id": "02739cb6fbfa4866b322ab5cc707c9b7",
       "version_major": 2,
       "version_minor": 0
      },
      "text/plain": [
       "VBox(children=(HBox(children=(IntProgress(value=0, description='0.00%', max=2514), Label(value='0 / 2514'))), …"
      ]
     },
     "metadata": {},
     "output_type": "display_data"
    },
    {
     "name": "stdout",
     "output_type": "stream",
     "text": [
      "error https://www.latimes.com/archives/la-xpm-1991-05-10-ca-1318-story.html\n",
      "\n",
      " ----------9 ------------\n"
     ]
    },
    {
     "data": {
      "application/vnd.jupyter.widget-view+json": {
       "model_id": "081a909b079d4d46907644b347b9c876",
       "version_major": 2,
       "version_minor": 0
      },
      "text/plain": [
       "VBox(children=(HBox(children=(IntProgress(value=0, description='0.00%', max=2514), Label(value='0 / 2514'))), …"
      ]
     },
     "metadata": {},
     "output_type": "display_data"
    },
    {
     "name": "stdout",
     "output_type": "stream",
     "text": [
      "error https://www.latimes.com/archives/la-xpm-1991-12-22-me-1444-story.html\n",
      "error https://www.latimes.com/archives/la-xpm-1991-12-15-hl-1037-story.html\n",
      "\n",
      " ----------10 ------------\n"
     ]
    },
    {
     "data": {
      "application/vnd.jupyter.widget-view+json": {
       "model_id": "f2806100927246cb9dbfac8bd3e63066",
       "version_major": 2,
       "version_minor": 0
      },
      "text/plain": [
       "VBox(children=(HBox(children=(IntProgress(value=0, description='0.00%', max=2514), Label(value='0 / 2514'))), …"
      ]
     },
     "metadata": {},
     "output_type": "display_data"
    },
    {
     "name": "stdout",
     "output_type": "stream",
     "text": [
      "\n",
      " ----------11 ------------\n"
     ]
    },
    {
     "data": {
      "application/vnd.jupyter.widget-view+json": {
       "model_id": "efd6032c28e940e2a64bd9b58612bd21",
       "version_major": 2,
       "version_minor": 0
      },
      "text/plain": [
       "VBox(children=(HBox(children=(IntProgress(value=0, description='0.00%', max=2514), Label(value='0 / 2514'))), …"
      ]
     },
     "metadata": {},
     "output_type": "display_data"
    },
    {
     "name": "stdout",
     "output_type": "stream",
     "text": [
      "error https://www.latimes.com/archives/la-xpm-1993-11-17-mn-57775-story.html\n",
      "error https://www.latimes.com/archives/la-xpm-1993-07-23-me-15992-story.html\n",
      "\n",
      " ----------12 ------------\n"
     ]
    },
    {
     "data": {
      "application/vnd.jupyter.widget-view+json": {
       "model_id": "04d20495452e4a668e0d2eee052411ae",
       "version_major": 2,
       "version_minor": 0
      },
      "text/plain": [
       "VBox(children=(HBox(children=(IntProgress(value=0, description='0.00%', max=2514), Label(value='0 / 2514'))), …"
      ]
     },
     "metadata": {},
     "output_type": "display_data"
    },
    {
     "name": "stdout",
     "output_type": "stream",
     "text": [
      "error https://www.latimes.com/archives/la-xpm-1994-05-23-sp-61081-story.html\n",
      "error https://www.latimes.com/archives/la-xpm-1994-05-15-tm-58261-story.htmlerror https://www.latimes.com/archives/la-xpm-1994-02-13-sp-22416-story.html\n",
      "\n",
      "error https://www.latimes.com/archives/la-xpm-1994-05-05-vl-54175-story.html\n",
      "\n",
      " ----------13 ------------\n"
     ]
    },
    {
     "data": {
      "application/vnd.jupyter.widget-view+json": {
       "model_id": "d35c20ef49354a21a0d11f3e5fbdef8e",
       "version_major": 2,
       "version_minor": 0
      },
      "text/plain": [
       "VBox(children=(HBox(children=(IntProgress(value=0, description='0.00%', max=2514), Label(value='0 / 2514'))), …"
      ]
     },
     "metadata": {},
     "output_type": "display_data"
    },
    {
     "name": "stdout",
     "output_type": "stream",
     "text": [
      "error https://www.latimes.com/archives/la-xpm-1994-12-23-me-12252-story.html\n",
      "\n",
      " ----------14 ------------\n"
     ]
    },
    {
     "data": {
      "application/vnd.jupyter.widget-view+json": {
       "model_id": "1e045d0252ae412b973ee8329b20a2ec",
       "version_major": 2,
       "version_minor": 0
      },
      "text/plain": [
       "VBox(children=(HBox(children=(IntProgress(value=0, description='0.00%', max=2514), Label(value='0 / 2514'))), …"
      ]
     },
     "metadata": {},
     "output_type": "display_data"
    },
    {
     "name": "stdout",
     "output_type": "stream",
     "text": [
      "error https://www.latimes.com/archives/la-xpm-1996-05-21-me-6674-story.html\n",
      "error https://www.latimes.com/archives/la-xpm-1996-03-15-sp-47423-story.html\n",
      "error https://www.latimes.com/archives/la-xpm-1995-11-28-fi-8008-story.html\n",
      "\n",
      " ----------15 ------------\n"
     ]
    },
    {
     "data": {
      "application/vnd.jupyter.widget-view+json": {
       "model_id": "986e0d94a1984e3490a5b8669dab52f5",
       "version_major": 2,
       "version_minor": 0
      },
      "text/plain": [
       "VBox(children=(HBox(children=(IntProgress(value=0, description='0.00%', max=2514), Label(value='0 / 2514'))), …"
      ]
     },
     "metadata": {},
     "output_type": "display_data"
    },
    {
     "name": "stdout",
     "output_type": "stream",
     "text": [
      "error https://www.latimes.com/archives/la-xpm-1997-01-08-mn-16543-story.html\n",
      "\n",
      " ----------16 ------------\n"
     ]
    },
    {
     "data": {
      "application/vnd.jupyter.widget-view+json": {
       "model_id": "84767a8d73854b9cb60edc77e845fbc0",
       "version_major": 2,
       "version_minor": 0
      },
      "text/plain": [
       "VBox(children=(HBox(children=(IntProgress(value=0, description='0.00%', max=2514), Label(value='0 / 2514'))), …"
      ]
     },
     "metadata": {},
     "output_type": "display_data"
    },
    {
     "name": "stdout",
     "output_type": "stream",
     "text": [
      "error https://www.latimes.com/archives/la-xpm-1998-mar-23-he-31792-story.html\n",
      "error https://www.latimes.com/archives/la-xpm-1998-apr-21-me-41487-story.html\n",
      "\n",
      " ----------17 ------------\n"
     ]
    },
    {
     "data": {
      "application/vnd.jupyter.widget-view+json": {
       "model_id": "c942c37d138044fea485dba0f4cb1f97",
       "version_major": 2,
       "version_minor": 0
      },
      "text/plain": [
       "VBox(children=(HBox(children=(IntProgress(value=0, description='0.00%', max=2514), Label(value='0 / 2514'))), …"
      ]
     },
     "metadata": {},
     "output_type": "display_data"
    },
    {
     "name": "stdout",
     "output_type": "stream",
     "text": [
      "error https://www.latimes.com/archives/la-xpm-1998-nov-25-ca-47455-story.html\n",
      "error https://www.latimes.com/archives/la-xpm-1998-sep-04-me-19417-story.html\n",
      "error https://www.latimes.com/archives/la-xpm-1999-feb-06-ca-5306-story.html\n",
      "error https://www.latimes.com/archives/la-xpm-1999-apr-26-me-31230-story.html\n",
      "error https://www.latimes.com/archives/la-xpm-1998-sep-28-sp-27351-story.html\n",
      "error https://www.latimes.com/archives/la-xpm-1999-apr-26-me-31333-story.html\n",
      "error https://www.latimes.com/archives/la-xpm-1999-mar-04-ca-13751-story.html\n",
      "error https://www.latimes.com/archives/la-xpm-1999-mar-20-sp-19260-story.html\n",
      "error https://www.latimes.com/archives/la-xpm-1999-apr-18-sp-28777-story.html\n",
      "error https://www.latimes.com/archives/la-xpm-1999-feb-11-me-6851-story.html\n",
      "error https://www.latimes.com/archives/la-xpm-1999-feb-03-fo-4272-story.html\n",
      "error https://www.latimes.com/archives/la-xpm-1999-apr-23-sp-30431-story.html\n",
      "error https://www.latimes.com/archives/la-xpm-1998-nov-05-sp-39538-story.html\n",
      "error https://www.latimes.com/archives/la-xpm-1998-oct-07-me-30084-story.html\n",
      "error https://www.latimes.com/archives/la-xpm-1998-jun-04-mn-56602-story.html\n",
      "error https://www.latimes.com/archives/la-xpm-1998-jul-09-me-2004-story.html\n",
      "error https://www.latimes.com/archives/la-xpm-1998-oct-23-me-35270-story.html\n",
      "error https://www.latimes.com/archives/la-xpm-1999-mar-17-me-18072-story.htmlerror https://www.latimes.com/archives/la-xpm-1999-feb-19-me-9535-story.html\n",
      "\n",
      "error https://www.latimes.com/archives/la-xpm-1999-mar-25-sp-20796-story.html\n",
      "error https://www.latimes.com/archives/la-xpm-1998-sep-25-sp-26350-story.html\n",
      "\n",
      " ----------18 ------------\n"
     ]
    },
    {
     "data": {
      "application/vnd.jupyter.widget-view+json": {
       "model_id": "be9b41bdcc2a460eae6e78b7de2e74b1",
       "version_major": 2,
       "version_minor": 0
      },
      "text/plain": [
       "VBox(children=(HBox(children=(IntProgress(value=0, description='0.00%', max=2514), Label(value='0 / 2514'))), …"
      ]
     },
     "metadata": {},
     "output_type": "display_data"
    },
    {
     "name": "stdout",
     "output_type": "stream",
     "text": [
      "error https://www.latimes.com/archives/la-xpm-1999-dec-09-sp-42196-story.htmlerror https://www.latimes.com/archives/la-xpm-1999-dec-01-mn-39360-story.html\n",
      "\n",
      "error https://www.latimes.com/archives/la-xpm-2000-feb-03-ca-60419-story.html\n",
      "error https://www.latimes.com/archives/la-xpm-1999-may-09-sp-35523-story.html\n",
      "error https://www.latimes.com/archives/la-xpm-1999-jul-19-cl-57320-story.html\n",
      "error https://www.latimes.com/archives/la-xpm-1999-sep-12-mn-9304-story.html\n",
      "error https://www.latimes.com/archives/la-xpm-1999-dec-01-mn-39375-story.html\n",
      "error https://www.latimes.com/archives/la-xpm-2000-feb-03-sp-60716-story.html\n",
      "error https://www.latimes.com/archives/la-xpm-1999-jul-10-mn-54680-story.html\n",
      "error https://www.latimes.com/archives/la-xpm-1999-jun-07-fi-44990-story.html\n",
      "\n",
      " ----------19 ------------\n"
     ]
    },
    {
     "data": {
      "application/vnd.jupyter.widget-view+json": {
       "model_id": "13f2dfa83e854b99b990e4846339f33c",
       "version_major": 2,
       "version_minor": 0
      },
      "text/plain": [
       "VBox(children=(HBox(children=(IntProgress(value=0, description='0.00%', max=2514), Label(value='0 / 2514'))), …"
      ]
     },
     "metadata": {},
     "output_type": "display_data"
    },
    {
     "name": "stdout",
     "output_type": "stream",
     "text": [
      "error https://www.latimes.com/archives/la-xpm-2000-jul-02-me-47129-story.html\n",
      "error https://www.latimes.com/archives/la-xpm-2000-may-07-op-27406-story.htmlerror https://www.latimes.com/archives/la-xpm-2001-jan-28-op-18028-story.htmlerror https://www.latimes.com/archives/la-xpm-2000-jun-21-ss-43405-story.html\n",
      "\n",
      "\n",
      "error https://www.latimes.com/archives/la-xpm-2000-jun-12-me-40148-story.htmlerror https://www.latimes.com/archives/la-xpm-2000-jun-04-me-37426-story.htmlerror https://www.latimes.com/archives/la-xpm-2000-jul-19-me-55302-story.htmlerror https://www.latimes.com/archives/la-xpm-2000-may-29-mn-35233-story.html\n",
      "\n",
      "\n",
      "\n",
      "error https://www.latimes.com/archives/la-xpm-2000-sep-15-fi-21394-story.html\n",
      "error https://www.latimes.com/archives/la-xpm-2000-aug-07-he-76-story.html\n",
      "error https://www.latimes.com/archives/la-xpm-2000-aug-23-sp-9091-story.htmlerror https://www.latimes.com/archives/la-xpm-2000-nov-01-mn-45213-story.htmlerror https://www.latimes.com/archives/la-xpm-2000-sep-22-ss-25110-story.html\n",
      "\n",
      "\n",
      "\n",
      " ----------20 ------------\n"
     ]
    },
    {
     "data": {
      "application/vnd.jupyter.widget-view+json": {
       "model_id": "3f0ec69abf5444d491bd7e3dca159ff4",
       "version_major": 2,
       "version_minor": 0
      },
      "text/plain": [
       "VBox(children=(HBox(children=(IntProgress(value=0, description='0.00%', max=2514), Label(value='0 / 2514'))), …"
      ]
     },
     "metadata": {},
     "output_type": "display_data"
    },
    {
     "name": "stdout",
     "output_type": "stream",
     "text": [
      "error https://www.latimes.com/archives/la-xpm-2001-apr-06-me-47716-story.html\n",
      "error https://www.latimes.com/la-timespollfaq-htmlstory.html\n",
      "error https://www.latimes.com/archives/la-xpm-2001-apr-12-mn-50114-story.htmlerror https://www.latimes.com/archives/la-xpm-2001-nov-08-me-1684-story.htmlerror https://www.latimes.com/archives/la-xpm-2002-feb-14-wk-pasles14-story.htmlerror https://www.latimes.com/archives/la-xpm-2001-jul-28-me-27626-story.html\n",
      "\n",
      "\n",
      "\n",
      "error https://www.latimes.com/archives/la-xpm-2001-apr-30-mn-57519-story.html\n",
      "error https://www.latimes.com/archives/la-xpm-2001-oct-18-sp-58731-story.htmlerror https://www.latimes.com/archives/la-xpm-2001-sep-07-fi-43062-story.htmlerror https://www.latimes.com/archives/la-xpm-2001-mar-26-mn-42869-story.html\n",
      "\n",
      "\n",
      "error https://www.latimes.com/archives/la-xpm-2001-nov-18-sp-5681-story.html\n",
      "error https://www.latimes.com/archives/la-xpm-2001-sep-18-fi-46846-story.htmlerror https://www.latimes.com/archives/la-xpm-2001-feb-13--story.htmlerror https://www.latimes.com/archives/la-xpm-2001-aug-18-fi-35495-story.htmlerror https://www.latimes.com/archives/la-xpm-2001-apr-21-me-53742-story.htmlerror https://www.latimes.com/archives/la-xpm-2001-mar-08-sp-35000-story.html\n",
      "\n",
      "\n",
      "\n",
      "\n",
      "\n",
      "error https://www.latimes.com/archives/la-xpm-2001-nov-28-fi-9080-story.htmlerror https://www.latimes.com/archives/la-xpm-2001-apr-20-mn-53322-story.html\n",
      "error https://www.latimes.com/archives/la-xpm-2002-jan-06-ca-letters6.4-story.htmlerror https://www.latimes.com/archives/la-xpm-2001-nov-07-me-1249-story.html\n",
      "\n",
      "error https://www.latimes.com/archives/la-xpm-2001-jun-15-mn-10768-story.html\n",
      "error https://www.latimes.com/archives/la-xpm-2001-jun-25-he-14333-story.htmlerror https://www.latimes.com/archives/la-xpm-2001-aug-07-fi-31380-story.html\n",
      "\n",
      "error https://www.latimes.com/archives/la-xpm-2002-jan-17-me-23168-story.html\n",
      "error https://www.latimes.com/archives/la-xpm-2001-dec-06-tt-12065-story.html\n",
      "error https://www.latimes.com/archives/la-xpm-2001-nov-05-mn-399-story.html\n",
      "error https://www.latimes.com/archives/la-xpm-2001-apr-18-fo-52262-story.html\n",
      "error https://www.latimes.com/archives/la-xpm-2001-jul-14-fi-22190-story.htmlerror https://www.latimes.com/archives/la-xpm-2001-may-30-sp-4333-story.html\n",
      "\n",
      "error https://www.latimes.com/archives/la-xpm-2002-feb-21-sp-prepbriefs21.1-story.html\n",
      "\n",
      " ----------21 ------------\n"
     ]
    },
    {
     "data": {
      "application/vnd.jupyter.widget-view+json": {
       "model_id": "8c900fd7a44c4125a80a416b855d944d",
       "version_major": 2,
       "version_minor": 0
      },
      "text/plain": [
       "VBox(children=(HBox(children=(IntProgress(value=0, description='0.00%', max=2514), Label(value='0 / 2514'))), …"
      ]
     },
     "metadata": {},
     "output_type": "display_data"
    },
    {
     "name": "stdout",
     "output_type": "stream",
     "text": [
      "error https://www.latimes.com/archives/la-xpm-2003-jan-19-re-hotprop19-story.htmlerror https://www.latimes.com/archives/la-xpm-2002-dec-23-sp-surf23-story.htmlerror https://www.latimes.com/archives/la-xpm-2002-aug-05-lv-birds5-story.html\n",
      "\n",
      "\n",
      "error https://www.latimes.com/archives/la-xpm-2002-oct-08-et-ear8-story.htmlerror https://www.latimes.com/archives/la-xpm-2002-nov-27-fo-sos27-story.html\n",
      "\n",
      "error https://www.latimes.com/archives/la-xpm-2003-feb-11-me-carson11-story.html\n",
      "error https://www.latimes.com/archives/la-xpm-2003-jan-19-re-update19-story.htmlerror https://www.latimes.com/archives/la-xpm-2002-mar-25-mn-34652-story.html\n",
      "\n",
      "error https://www.latimes.com/archives/la-xpm-2003-mar-19-fi-hughes19-story.html\n",
      "error https://www.latimes.com/archives/la-xpm-2002-mar-03-me-agoura3-story.html\n",
      "error https://www.latimes.com/archives/la-xpm-2002-jun-03-sp-newswire03-story.htmlerror https://www.latimes.com/archives/la-xpm-2002-dec-11-na-urinate11-story.html\n",
      "error https://www.latimes.com/archives/la-xpm-2003-may-19-he-curves19-story.html\n",
      "\n",
      "error https://www.latimes.com/archives/la-xpm-2002-aug-12-me-girl12-story.htmlerror https://www.latimes.com/archives/la-xpm-2003-mar-03-et-nichols3-story.html\n",
      "\n",
      "error https://www.latimes.com/archives/la-xpm-2003-jan-15-me-housing15-story.html\n",
      "error https://www.latimes.com/archives/la-xpm-2002-mar-22-et-ear22-story.htmlerror https://www.latimes.com/archives/la-xpm-2002-dec-07-le-brooks7.2-story.html\n",
      "\n",
      "error https://www.latimes.com/archives/la-xpm-2002-may-03-fi-insure3-story.html\n",
      "error https://www.latimes.com/archives/la-xpm-2003-mar-26-fi-slatkin26-story.html\n",
      "error https://www.latimes.com/archives/la-xpm-2002-jul-14-edoc-lettersB14.4-story.htmlerror https://www.latimes.com/archives/la-xpm-2003-jan-24-sp-aussiemen24-story.html\n",
      "\n",
      "error https://www.latimes.com/archives/la-xpm-2003-may-01-fi-farmer1-story.html\n",
      "error https://www.latimes.com/archives/la-xpm-2002-apr-04-mn-36199-story.html\n",
      "\n",
      " ----------22 ------------\n"
     ]
    },
    {
     "data": {
      "application/vnd.jupyter.widget-view+json": {
       "model_id": "12403ef044644e70bc1aa6411a981e33",
       "version_major": 2,
       "version_minor": 0
      },
      "text/plain": [
       "VBox(children=(HBox(children=(IntProgress(value=0, description='0.00%', max=2514), Label(value='0 / 2514'))), …"
      ]
     },
     "metadata": {},
     "output_type": "display_data"
    },
    {
     "name": "stdout",
     "output_type": "stream",
     "text": [
      "error https://www.latimes.com/archives/la-xpm-2003-aug-28-na-minngov28-story.html\n",
      "error https://www.latimes.com/archives/la-xpm-2003-jun-29-fi-letters29.1-story.htmlerror https://www.latimes.com/archives/la-xpm-2003-jun-16-et-lechner16-story.htmlerror https://www.latimes.com/archives/la-xpm-2003-aug-03-fi-flan3-story.html\n",
      "\n",
      "\n",
      "error https://www.latimes.com/archives/la-xpm-2003-nov-22-fi-rup22.3-story.html\n",
      "error https://www.latimes.com/archives/la-xpm-2004-may-04-os-outfitter4-story.html\n",
      "error https://www.latimes.com/archives/la-xpm-2004-apr-11-na-bush11-story.htmlerror https://www.latimes.com/archives/la-xpm-2003-dec-25-le-walmart25-story.htmlerror https://www.latimes.com/archives/la-xpm-2004-sep-30-fg-briefs30-story.htmlerror https://www.latimes.com/archives/la-xpm-2003-oct-01-na-victim1-story.htmlerror https://www.latimes.com/archives/la-xpm-2003-nov-07-fi-rup7.6-story.html\n",
      "\n",
      "\n",
      "\n",
      "\n",
      "error https://www.latimes.com/archives/la-xpm-2004-sep-30-le-sudan30-story.htmlerror https://www.latimes.com/archives/la-xpm-2004-mar-30-fi-leno30-story.html\n",
      "\n",
      "error https://www.latimes.com/archives/la-xpm-2004-jul-23-et-camp23-story.htmlerror https://www.latimes.com/archives/la-xpm-2003-jul-18-et-brandes18-story.html\n",
      "\n",
      "error https://www.latimes.com/archives/la-xpm-2004-feb-22-bk-cohen22-story.html\n",
      "\n",
      " ----------23 ------------\n"
     ]
    },
    {
     "data": {
      "application/vnd.jupyter.widget-view+json": {
       "model_id": "508f7e19779b4633a88c34b084da1cdf",
       "version_major": 2,
       "version_minor": 0
      },
      "text/plain": [
       "VBox(children=(HBox(children=(IntProgress(value=0, description='0.00%', max=2514), Label(value='0 / 2514'))), …"
      ]
     },
     "metadata": {},
     "output_type": "display_data"
    },
    {
     "name": "stdout",
     "output_type": "stream",
     "text": [
      "error https://www.latimes.com/archives/la-xpm-2006-feb-21-le-tuesday21.1-story.htmlerror https://www.latimes.com/archives/la-xpm-2006-apr-26-sp-nhlrdp26-story.htmlerror https://www.latimes.com/archives/la-xpm-2006-mar-10-sp-newswire10-story.html\n",
      "\n",
      "error https://www.latimes.com/archives/la-xpm-2005-may-12-wk-letters12.2-story.html\n",
      "\n",
      "error https://www.latimes.com/archives/la-xpm-2006-jan-04-fi-briefs4.2-story.html\n",
      "error https://www.latimes.com/archives/la-xpm-2006-mar-22-le-wednesday22.4-story.html\n",
      "error https://www.latimes.com/archives/la-xpm-2004-oct-03-fi-letters3.3-story.html\n",
      "error https://www.latimes.com/world/cs-051015soxgamer-story.html\n",
      "error https://www.latimes.com/archives/la-xpm-2006-apr-07-sp-hssondcol7-story.htmlerror https://www.latimes.com/archives/la-xpm-2005-sep-28-fo-review28-story.html\n",
      "\n",
      "error https://www.latimes.com/archives/la-xpm-2005-may-21-fg-taiwan21-story.htmlerror https://www.latimes.com/archives/la-xpm-2005-sep-27-sp-insideusc27-story.html\n",
      "\n",
      "error https://www.latimes.com/archives/la-xpm-2005-jul-25-sp-insider25-story.html\n",
      "error https://www.latimes.com/archives/la-xpm-2005-apr-04-me-stebbins4-story.htmlerror https://www.latimes.com/archives/la-xpm-2005-apr-17-ca-hick17-story.htmlerror https://www.latimes.com/archives/la-xpm-2005-mar-02-le-buy2.3-story.html\n",
      "\n",
      "\n",
      "error https://www.latimes.com/archives/la-xpm-2004-nov-16-fi-lowe16-story.html\n",
      "error https://www.latimes.com/archives/la-xpm-2005-jun-22-fo-cookstuff22-story.html\n",
      "\n",
      " ----------24 ------------\n"
     ]
    },
    {
     "data": {
      "application/vnd.jupyter.widget-view+json": {
       "model_id": "b3ec77c2f5c1441abb507c59d5dd16e9",
       "version_major": 2,
       "version_minor": 0
      },
      "text/plain": [
       "VBox(children=(HBox(children=(IntProgress(value=0, description='0.00%', max=2514), Label(value='0 / 2514'))), …"
      ]
     },
     "metadata": {},
     "output_type": "display_data"
    },
    {
     "name": "stdout",
     "output_type": "stream",
     "text": [
      "error https://www.latimes.com/archives/la-xpm-2006-nov-22-me-parking22-story.htmlerror https://www.latimes.com/archives/la-xpm-2007-jan-26-fi-chiecon26-story.html\n",
      "\n",
      "error https://www.latimes.com/archives/la-xpm-2006-dec-10-fg-briefs10.6-story.htmlerror https://www.latimes.com/archives/la-xpm-2007-sep-03-le-monday3.s3-story.html\n",
      "\n",
      "error https://www.latimes.com/archives/la-xpm-2006-nov-22-me-lopez22-story.html\n",
      "error https://www.latimes.com/archives/la-xpm-2007-jul-15-me-paffenbarger15-story.htmlerror https://www.latimes.com/archives/la-xpm-2006-sep-20-sp-rydernotes20-story.htmlerror https://www.latimes.com/archives/la-xpm-2006-may-05-le-friday5.5-story.htmlerror https://www.latimes.com/archives/la-xpm-2007-aug-30-sp-briefing30-story.html\n",
      "\n",
      "\n",
      "\n",
      "error https://www.latimes.com/archives/la-xpm-2006-may-19-me-only19-story.html\n",
      "\n",
      " ----------25 ------------\n"
     ]
    },
    {
     "data": {
      "application/vnd.jupyter.widget-view+json": {
       "model_id": "722c9b29c4c54a48af5661e1ba93c05d",
       "version_major": 2,
       "version_minor": 0
      },
      "text/plain": [
       "VBox(children=(HBox(children=(IntProgress(value=0, description='0.00%', max=2514), Label(value='0 / 2514'))), …"
      ]
     },
     "metadata": {},
     "output_type": "display_data"
    },
    {
     "name": "stdout",
     "output_type": "stream",
     "text": [
      "error https://www.latimes.com/opinion/la-oe-kerry30-2009mar30-story.html\n",
      "\n",
      " ----------26 ------------\n"
     ]
    },
    {
     "data": {
      "application/vnd.jupyter.widget-view+json": {
       "model_id": "2e35475e804e4d6e91e2aea4a07e48ef",
       "version_major": 2,
       "version_minor": 0
      },
      "text/plain": [
       "VBox(children=(HBox(children=(IntProgress(value=0, description='0.00%', max=2514), Label(value='0 / 2514'))), …"
      ]
     },
     "metadata": {},
     "output_type": "display_data"
    },
    {
     "name": "stdout",
     "output_type": "stream",
     "text": [
      "error https://www.latimes.com/archives/la-xpm-2010-feb-01-la-fi-calpers-glancebox1-2010feb01-story.htmlerror https://www.latimes.com/local/la-xpm-2011-jul-01-la-me-mongols-logo-20110701-story.html\n",
      "\n",
      "\n",
      " ----------27 ------------\n"
     ]
    },
    {
     "data": {
      "application/vnd.jupyter.widget-view+json": {
       "model_id": "3572e248ae9a40369e52383c3d878f00",
       "version_major": 2,
       "version_minor": 0
      },
      "text/plain": [
       "VBox(children=(HBox(children=(IntProgress(value=0, description='0.00%', max=2514), Label(value='0 / 2514'))), …"
      ]
     },
     "metadata": {},
     "output_type": "display_data"
    },
    {
     "name": "stdout",
     "output_type": "stream",
     "text": [
      "error https://www.latimes.com/local/lanow/la-xpm-2013-nov-26-la-me-ln-us-border-patrol-agents-attacked-mexico-crowd-20131126-story.html\n",
      "error https://www.latimes.com/science/sciencenow/la-xpm-2013-dec-12-la-sci-newtown-anniversary-psychologists-guns-20131212-story.htmlerror https://www.latimes.com/science/sciencenow/la-xpm-2014-apr-08-la-sci-sn-spinal-cord-stimulation-paralysis-20140407-story.htmlerror https://www.latimes.com/nation/nationnow/la-na-nn-ebola-doctor-condition-improving-0140815-story.htmlerror https://www.latimes.com/nation/la-na-government-shutdown-20130923-story.html\n",
      "\n",
      "\n",
      "\n",
      "error https://www.latimes.com/local/lanow/la-me-ln-man-walking-covered-blood-arrested-20131024-story.htmlerror https://www.latimes.com/local/lanow/la-me-ln-man-held-molotov-cocktail-attack-church-20140129-story.html\n",
      "\n",
      "error https://www.latimes.com/nation/la-na-0408-fort-hood-20140408-story.html\n",
      "error https://www.latimes.com/world/la-xpm-2013-may-23-la-fg-afghanistan-woman-ceo-20130524-story.htmlerror https://www.latimes.com/opinion/op-ed/la-oe-mcmanus-column-islamic-state-20140921-column.htmlerror https://www.latimes.com/local/lanow/la-xpm-2013-nov-12-la-me-ln-miss-teen-usa-sextortion-guilty-plea-20131112-story.htmlerror https://www.latimes.com/world/la-xpm-2013-aug-07-la-fg-wn-north-korea-kaesong-20130807-story.html\n",
      "\n",
      "\n",
      "\n",
      "error https://www.latimes.com/local/lanow/la-me-ln-apple-valley-shooting-20140129-story.html\n",
      "error https://www.latimes.com/opinion/topoftheticket/la-na-tt-red-blue-distinctions-20140523-story.htmlerror https://www.latimes.com/nation/chi-us-canadian-jets-intercept-russian-aircraft-20140919-story.html\n",
      "error https://www.latimes.com/nation/la-xpm-2013-sep-07-la-na-immigration-reform-20130908-story.html\n",
      "\n",
      "error https://www.latimes.com/world/worldnow/la-fg-wn-win-tin-longtime-antijunta-crusader-in-myanmar-dies-at-age-85-20140421-story.html\n",
      "error https://www.latimes.com/local/lanow/la-xpm-2013-aug-22-la-me-ln-transgender-car-killing-20130822-story.htmlerror https://www.latimes.com/food/dailydish/la-counter-intelligence-the-hart-and-the-hunter-20130220-photos-photogallery.html\n",
      "error https://www.latimes.com/la-et-2011-national-board-reviewawards-gala-pictures-photogallery.html\n",
      "\n",
      "error https://www.latimes.com/local/political/la-me-pc-panel-to-consider-whether-to-give-raises-to-governor-lawmakers-20140304-story.html\n",
      "error https://www.latimes.com/opinion/la-xpm-2014-feb-14-la-ol-assisted-suicide-children-belgium-says-yes-20140214-story.htmlerror https://www.latimes.com/nation/nationnow/la-na-nn-sparks-nevada-school-shooting-mourn-20131023-story.html\n",
      "error https://www.latimes.com/sports/lakers/la-xpm-2013-mar-24-la-sp-ln-antawn-jamison-injury-impact-lakers-20130324-story.html\n",
      "\n",
      "error https://www.latimes.com/80902214-132.html\n"
     ]
    }
   ],
   "source": [
    "pandarallel.initialize(nb_workers=40, progress_bar=True)\n",
    "for idx in range(100):\n",
    "    print('\\n ----------%s ------------'%idx)\n",
    "    df = pd.read_csv('latimes/%03d.csv'%idx, header=0)\n",
    "    df['text']=None\n",
    "    df['text']= df['links'].parallel_apply(extract_story).values\n",
    "    df.to_csv('latimes/%03d.csv'%idx, index=False)"
   ]
  },
  {
   "cell_type": "code",
   "execution_count": 3,
   "metadata": {
    "ExecuteTime": {
     "end_time": "2021-04-20T22:00:38.182870Z",
     "start_time": "2021-04-20T20:05:16.099806Z"
    },
    "scrolled": true
   },
   "outputs": [
    {
     "name": "stdout",
     "output_type": "stream",
     "text": [
      "INFO: Pandarallel will run on 40 workers.\n",
      "INFO: Pandarallel will use Memory file system to transfer data between the main process and workers.\n",
      "\n",
      " ----------27 ------------\n"
     ]
    },
    {
     "data": {
      "application/vnd.jupyter.widget-view+json": {
       "model_id": "a6d7b284ce724a87a3f3acf81a7ef40c",
       "version_major": 2,
       "version_minor": 0
      },
      "text/plain": [
       "VBox(children=(HBox(children=(IntProgress(value=0, description='0.00%', max=2514), Label(value='0 / 2514'))), …"
      ]
     },
     "metadata": {},
     "output_type": "display_data"
    },
    {
     "name": "stdout",
     "output_type": "stream",
     "text": [
      "error https://www.latimes.com/80902214-132.html\n",
      "\n",
      " ----------28 ------------\n"
     ]
    },
    {
     "data": {
      "application/vnd.jupyter.widget-view+json": {
       "model_id": "29bb829716e94959a7cd167b5d66808e",
       "version_major": 2,
       "version_minor": 0
      },
      "text/plain": [
       "VBox(children=(HBox(children=(IntProgress(value=0, description='0.00%', max=2514), Label(value='0 / 2514'))), …"
      ]
     },
     "metadata": {},
     "output_type": "display_data"
    },
    {
     "name": "stdout",
     "output_type": "stream",
     "text": [
      "error https://www.latimes.com/local/california/la-me-0607-lopez-fallingapart-20150606-column.html\n",
      "error https://www.latimes.com/82962015-132.html\n",
      "error https://www.latimes.com/opinion/op-ed/la-oe-newton-column-lapd-drones-20141117-column.html\n",
      "error https://www.latimes.com/87475342-132.html\n",
      "error https://www.latimes.com/business/hiltzik/la-fi-mh-supreme-court-saves-obamacare-20150625-column.html\n",
      "error https://www.latimes.com/local/california/la-me-cap-20150928-column.html\n",
      "error https://www.latimes.com/local/politics/la-me-cap-confederate-flag-20150625-column.html\n",
      "error https://www.latimes.com/opinion/op-ed/la-oe-0624-morrison-labonge-20150624-column.html\n",
      "error https://www.latimes.com/85183090-132.html\n",
      "error https://www.latimes.com/85183085-132.html\n",
      "error https://www.latimes.com/local/politics/la-me-cap-roads-healthcare-20150622-column.html\n",
      "error https://www.latimes.com/84756241-132.html\n",
      "error https://www.latimes.com/la-test-live-blog-training-updates-test-headline-for-live-1485983647-htmlstory.html\n",
      "error https://www.latimes.com/87189933-132.html\n",
      "error https://www.latimes.com/nation/la-obama-transgender-bathroom-letter-20160513-snap-story.htmlerror https://www.latimes.com/nation/sns-tns-bc-britain-elizabeth-1st-lede-20150909-story.html\n",
      "\n",
      "error https://www.latimes.com/politics/la-na-pol-third-presidential-debate-20161019-snap-story.html\n",
      "error https://www.latimes.com/local/lanow/la-me-ln-martinez-campaign-20150226-story.htmlerror https://www.latimes.com/local/california/la-me-0325-dodger-stadium-thefts-20160325-story.html\n",
      "\n",
      "error https://www.latimes.com/local/california/la-me-pol-sac-cap-20150924-column.html\n",
      "error https://www.latimes.com/nation/la-na-james-holmes-parents-20150728-story.htmlerror https://www.latimes.com/local/lanow/la-me-ln-san-francisco-housing-ballot-20151102-story.html\n",
      "\n",
      "error https://www.latimes.com/local/abcarian/la-me-0619-abcarian-farmer-drought-20150619-column.html\n",
      "error https://www.latimes.com/local/abcarian/la-me-1016-abcarian-patent-office-20151016-column.html\n",
      "error https://www.latimes.com/local/lanow/la-me-ln-koreatown-paytostay-indictment-not-guilty-pleas-20150312-story.htmlerror https://www.latimes.com/local/lanow/la-me-ln-deputy-shooting-20160913-snap-story.htmlerror https://www.latimes.com/nation/ct-missing-florida-teens-20150727-story.html\n",
      "\n",
      "\n",
      "error https://www.latimes.com/local/lanow/la-me-ln-king-tides-hit-california-coast-20151124-story.htmlerror https://www.latimes.com/nation/ct-congress-iran-nuclear-deal-20150908-story.htmlerror https://www.latimes.com/world/mexico-americas/la-fg-mexico-gulf-oil-fire-20150401-story.html\n",
      "\n",
      "\n",
      "error https://www.latimes.com/world/la-fg-global-hiv-aids-snap-htmlstory.html\n",
      "error https://www.latimes.com/87166797-132.html\n",
      "error https://www.latimes.com/local/politics/la-me-cap-brown-bills-20151015-column.html\n",
      "error https://www.latimes.com/business/hiltzik/la-fi-mh-clinton-social-security-20151014-column.html\n",
      "error https://www.latimes.com/81872385-132.html\n",
      "error https://www.latimes.com/nation/ct-slain-indiana-teens-20170314-story.html\n",
      "error https://www.latimes.com/opinion/op-ed/la-oe-morrison-silverstein-20151014-column.html\n",
      "error https://www.latimes.com/opinion/op-ed/la-oe-1014-mcmanus-democratic-debate-20151014-column.html\n",
      "error https://www.latimes.com/entertainment/arts/miranda/la-et-cam-iraqi-photo-agency-metrography-documenting-refugees-20151012-column.html\n",
      "error https://www.latimes.com/local/california/la-me-lopez-kip-20151014-column.html\n",
      "error https://www.latimes.com/local/abcarian/la-me-ra-playboy-magazine-20151013-column.html\n",
      "error https://www.latimes.com/opinion/op-ed/la-oe-1013-goldberg-clinton-biden-20151013-column.html\n",
      "error https://www.latimes.com/local/abcarian/la-me-ra-abcarian-clotheslines-20151012-column.html\n",
      "error https://www.latimes.com/local/corrections/la-a4-correx-20170129-story.html\n",
      "error https://www.latimes.com/nation/ct-orange-lobster-20150723-story.html\n",
      "error https://www.latimes.com/81844558-132.html\n",
      "error https://www.latimes.com/89327108-132.html\n",
      "error https://www.latimes.com/81844602-132.html\n",
      "error https://www.latimes.com/83483702-132.html\n",
      "error https://www.latimes.com/local/politics/la-me-cap-guns-20151012-column.html\n",
      "error https://www.latimes.com/opinion/op-ed/la-oe-1011-mcmanus-gop-disarray-20151011-column.html\n",
      "error https://www.latimes.com/83646088-132.html\n",
      "error https://www.latimes.com/local/california/la-me-banks-facebook-dogfight-20151010-column.html\n",
      "error https://www.latimes.com/newsletters/sd-me-horn-guy-captured-20161115-htmlstory.htmlerror https://www.latimes.com/local/california/la-me-parking-methodology-20141230-story.html\n",
      "\n",
      "error https://www.latimes.com/local/la-todays-paper-20150919-htmlstory.htmlerror https://www.latimes.com/science/sciencenow/la-sci-sn-orion-capsule-launch-delayed-20141204-story.html\n",
      "error https://www.latimes.com/world/middleeast/la-fg-iraq-arabs-20141020-story.html\n",
      "\n",
      "error https://www.latimes.com/local/california/la-me-1123-lopez-gupta-20141123-column.html\n",
      "error https://www.latimes.com/local/california/la-me-1122-banks-heroes-day-20141122-column.html\n",
      "error https://www.latimes.com/nation/la-oe-mcmanus-column-iraq-isis-war-20141123-column.html\n",
      "error https://www.latimes.com/85861023-132.html\n",
      "error https://www.latimes.com/83627015-132.html\n",
      "error https://www.latimes.com/83626915-132.html\n",
      "error https://www.latimes.com/local/lanow/la-me-ln-lopez-immigration-reform-20141121-column.html\n",
      "error https://www.latimes.com/84029590-132.html\n",
      "error https://www.latimes.com/84461253-132.html\n",
      "error https://www.latimes.com/local/abcarian/la-me-abcarian-silva-death-20141121-column.html\n",
      "error https://www.latimes.com/local/abcarian/la-me-ra-abalone-dangers-20151007-column.html\n",
      "error https://www.latimes.com/local/lanow/la-me-ln-police-shooting-20160824-snap-story.html\n",
      "error https://www.latimes.com/90339824-132.html\n",
      "error https://www.latimes.com/90339749-132.html\n",
      "error https://www.latimes.com/local/politics/la-me-cap-brown-fundraising-20141120-column.html\n",
      "error https://www.latimes.com/89964603-132.html\n",
      "error https://www.latimes.com/89887147-132.html\n",
      "error https://www.latimes.com/86731972-132.html\n",
      "error https://www.latimes.com/86731627-132.html\n",
      "error https://www.latimes.com/86730763-132.html\n",
      "error https://www.latimes.com/86731497-132.html\n",
      "error https://www.latimes.com/opinion/op-ed/la-oe-morrison-gehry-20141119-column.html\n",
      "error https://www.latimes.com/nation/la-oe-mcmanus-column-sanders-democrats-2016-20141119-11-column.html\n",
      "error https://www.latimes.com/local/california/la-me-1118-banks-good-victims-column-20141118-column.html\n",
      "error https://www.latimes.com/opinion/op-ed/la-oe-goldberg-rosetta-scientist-shirtgate-feminists-20141118-column.html\n",
      "\n",
      " ----------29 ------------\n"
     ]
    },
    {
     "data": {
      "application/vnd.jupyter.widget-view+json": {
       "model_id": "63af7c12dbb143c7817c5d4cb135697b",
       "version_major": 2,
       "version_minor": 0
      },
      "text/plain": [
       "VBox(children=(HBox(children=(IntProgress(value=0, description='0.00%', max=2514), Label(value='0 / 2514'))), …"
      ]
     },
     "metadata": {},
     "output_type": "display_data"
    },
    {
     "name": "stdout",
     "output_type": "stream",
     "text": [
      "error https://www.latimes.com/116663390-132.html\n",
      "error https://www.latimes.com/nation/la-na-jayme-closs-kidnapper-jake-patterson-sentenced-to-life-in-prison-20190524-story.html\n",
      "error https://www.latimes.com/world/la-fg-north-korea-nuclear-talks-trump-kim-20190524-story.html\n",
      "error https://www.latimes.com/opinion/op-ed/la-oe-graedon-abortion-legal-alabama-pregnant-20190523-story.html\n",
      "error https://www.latimes.com/opinion/op-ed/la-oe-mohammed-stateless-manus-island-20180723-story.htmlerror https://www.latimes.com/nation/ct-kansas-waterslide-death-settlement-20170504-story.htmlerror https://www.latimes.com/nation/ct-gop-governors-news-site-20170919-story.html\n",
      "\n",
      "\n",
      "error https://www.latimes.com/nation/ct-london-subway-bomb-suspects-20170918-story.html\n",
      "error https://www.latimes.com/world-nation/story/2020-01-29/trump-shores-up-support-for-newest-gop-congressman-in-jersey\n",
      "error https://www.latimes.com/california/story/2020-05-28/coronavirus-order-lifted-in-el-dorado-county-but-not-lake-tahoe\n",
      "error https://www.latimes.com/opinion/story/2020-03-03/deputies-sharing-kobe-crash-photoserror https://www.latimes.com/california/story/2020-12-15/covid-vaccine-san-francisco-healthcare-workers\n",
      "error https://www.latimes.com/world/asia/la-fg-afghanistan-haqqani-dies-20180904-story.htmlerror https://www.latimes.com/opinion/readersreact/la-ol-le-fires-forest-management-trump-20181120-story.html\n",
      "error https://www.latimes.com/110092132-132.html\n",
      "\n",
      "\n",
      "error https://www.latimes.com/opinion/enterthefray/la-ol-supreme-court-death-penalty-dissent-20190514-story.html\n",
      "error https://www.latimes.com/94319712-132.htmlerror https://www.latimes.com/local/lanow/la-me-ln-beverly-hills-sexual-assault-attempt-20180423-story.html\n",
      "\n",
      "error https://www.latimes.com/nation/ct-france-supermarket-20180323-story.htmlerror https://www.latimes.com/nation/ct-san-antonio-police-officer-killed-20170630-story.html\n",
      "\n",
      "error https://www.latimes.com/nation/ct-trump-infrastructure-plan-congress-20170606-story.html\n",
      "error https://www.latimes.com/109532111-132.html\n",
      "error https://www.latimes.com/california/story/2020-09-14/california-fires-death-toll-firefighters-windserror https://www.latimes.com/world/sns-worldtrade-binladenhero-ct-story.html\n",
      "\n",
      "error https://www.latimes.com/nation/nationnow/la-na-us-china-north-korea-20170629-story.html\n",
      "error https://www.latimes.com/nation/ct-rain-trump-bikers-20180811-story.html\n",
      "error https://www.latimes.com/local/lanow/la-me-ln-chainsaw-deported-20180713-story.html\n",
      "error https://www.latimes.com/opinion/story/2020-04-23/coronavirus-donald-trump-nra-william-barr-department-of-justice\n",
      "error https://www.latimes.com/politics/la-na-pol-midterm-fallout-california-20181107-story.htmlerror https://www.latimes.com/world/la-fg-peter-madsen-charges-20180116-story.html\n",
      "\n",
      "error https://www.latimes.com/local/lanow/la-me-pge-fire-20171110-story.html\n",
      "error https://www.latimes.com/politics/la-pol-ca-young-voters-midterms-20181022-story.htmlerror https://www.latimes.com/nation/nationnow/la-na-mississippi-shooting-20170729-story.htmlerror https://www.latimes.com/world-nation/story/2019-12-30/us-mass-killings-shootings-2019\n",
      "\n",
      "\n",
      "error https://www.latimes.com/opinion/enterthefray/la-ed-infrastructure-trump-pelosi-20190501-story.html\n",
      "error https://www.latimes.com/espanol/deportes/la-world-cup-espanol-updates-2018-htmlstory.html\n",
      "error https://www.latimes.com/la-me-edu-lausd-school-board-election-results-20190312-story.html\n",
      "error https://www.latimes.com/politics/la-na-pol-family-separation-20181012-story.htmlerror https://www.latimes.com/opinion/readersreact/la-ol-le-citi-credit-card-insurance-death-20190116-story.htmlerror https://www.latimes.com/opinion/story/2021-01-26/vaccine-chasers-inequity\n",
      "\n",
      "error https://www.latimes.com/local/education/la-me-uc-strike-voices-20180508-htmlstory.html\n",
      "\n",
      "error https://www.latimes.com/politics/story/2019-09-27/epa-cancels-meeting-with-california-after-a-week-of-clashes\n",
      "error https://www.latimes.com/ct-biz-t-mobile-sprint-merger-lazarus-20180508-story.html\n",
      "error https://www.latimes.com/nation/ct-arpaio-politics-trump-pardon-20170826-story.htmlerror https://www.latimes.com/local/lanow/la-me-ln-lapd-shooting-20180409-story.html\n",
      "\n",
      "error https://www.latimes.com/nation/la-na-new-york-detention-center-20190202-story.htmlerror https://www.latimes.com/local/lanow/la-me-dangerous-heat-20170826-htmlstory.html\n",
      "\n",
      "error https://www.latimes.com/world-nation/story/2020-07-25/kremlin-protests\n",
      "error https://www.latimes.com/local/lanow/la-me-ln-alonzo-leron-smith-sentencing-20190307-story.html\n",
      "error https://www.latimes.com/california/story/2021-01-18/biden-chooses-san-diego-unified-superintendent-deputy-education-secretary\n",
      "\n",
      " ----------30 ------------\n"
     ]
    },
    {
     "ename": "FileNotFoundError",
     "evalue": "[Errno 2] No such file or directory: 'latimes/030.csv'",
     "output_type": "error",
     "traceback": [
      "\u001b[0;31m---------------------------------------------------------------------------\u001b[0m",
      "\u001b[0;31mFileNotFoundError\u001b[0m                         Traceback (most recent call last)",
      "\u001b[0;32m<ipython-input-3-05b48790be20>\u001b[0m in \u001b[0;36m<module>\u001b[0;34m\u001b[0m\n\u001b[1;32m      2\u001b[0m \u001b[0;32mfor\u001b[0m \u001b[0midx\u001b[0m \u001b[0;32min\u001b[0m \u001b[0mrange\u001b[0m\u001b[0;34m(\u001b[0m\u001b[0;36m27\u001b[0m\u001b[0;34m,\u001b[0m\u001b[0;36m100\u001b[0m\u001b[0;34m)\u001b[0m\u001b[0;34m:\u001b[0m\u001b[0;34m\u001b[0m\u001b[0;34m\u001b[0m\u001b[0m\n\u001b[1;32m      3\u001b[0m     \u001b[0mprint\u001b[0m\u001b[0;34m(\u001b[0m\u001b[0;34m'\\n ----------%s ------------'\u001b[0m\u001b[0;34m%\u001b[0m\u001b[0midx\u001b[0m\u001b[0;34m)\u001b[0m\u001b[0;34m\u001b[0m\u001b[0;34m\u001b[0m\u001b[0m\n\u001b[0;32m----> 4\u001b[0;31m     \u001b[0mdf\u001b[0m \u001b[0;34m=\u001b[0m \u001b[0mpd\u001b[0m\u001b[0;34m.\u001b[0m\u001b[0mread_csv\u001b[0m\u001b[0;34m(\u001b[0m\u001b[0;34m'latimes/%03d.csv'\u001b[0m\u001b[0;34m%\u001b[0m\u001b[0midx\u001b[0m\u001b[0;34m,\u001b[0m \u001b[0mheader\u001b[0m\u001b[0;34m=\u001b[0m\u001b[0;36m0\u001b[0m\u001b[0;34m)\u001b[0m\u001b[0;34m\u001b[0m\u001b[0;34m\u001b[0m\u001b[0m\n\u001b[0m\u001b[1;32m      5\u001b[0m     \u001b[0mdf\u001b[0m\u001b[0;34m[\u001b[0m\u001b[0;34m'text'\u001b[0m\u001b[0;34m]\u001b[0m\u001b[0;34m=\u001b[0m\u001b[0;32mNone\u001b[0m\u001b[0;34m\u001b[0m\u001b[0;34m\u001b[0m\u001b[0m\n\u001b[1;32m      6\u001b[0m     \u001b[0mdf\u001b[0m\u001b[0;34m[\u001b[0m\u001b[0;34m'text'\u001b[0m\u001b[0;34m]\u001b[0m\u001b[0;34m=\u001b[0m \u001b[0mdf\u001b[0m\u001b[0;34m[\u001b[0m\u001b[0;34m'links'\u001b[0m\u001b[0;34m]\u001b[0m\u001b[0;34m.\u001b[0m\u001b[0mparallel_apply\u001b[0m\u001b[0;34m(\u001b[0m\u001b[0mextract_story\u001b[0m\u001b[0;34m)\u001b[0m\u001b[0;34m.\u001b[0m\u001b[0mvalues\u001b[0m\u001b[0;34m\u001b[0m\u001b[0;34m\u001b[0m\u001b[0m\n",
      "\u001b[0;32m~/.local/lib/python3.6/site-packages/pandas/io/parsers.py\u001b[0m in \u001b[0;36mread_csv\u001b[0;34m(filepath_or_buffer, sep, delimiter, header, names, index_col, usecols, squeeze, prefix, mangle_dupe_cols, dtype, engine, converters, true_values, false_values, skipinitialspace, skiprows, skipfooter, nrows, na_values, keep_default_na, na_filter, verbose, skip_blank_lines, parse_dates, infer_datetime_format, keep_date_col, date_parser, dayfirst, cache_dates, iterator, chunksize, compression, thousands, decimal, lineterminator, quotechar, quoting, doublequote, escapechar, comment, encoding, dialect, error_bad_lines, warn_bad_lines, delim_whitespace, low_memory, memory_map, float_precision)\u001b[0m\n\u001b[1;32m    686\u001b[0m     )\n\u001b[1;32m    687\u001b[0m \u001b[0;34m\u001b[0m\u001b[0m\n\u001b[0;32m--> 688\u001b[0;31m     \u001b[0;32mreturn\u001b[0m \u001b[0m_read\u001b[0m\u001b[0;34m(\u001b[0m\u001b[0mfilepath_or_buffer\u001b[0m\u001b[0;34m,\u001b[0m \u001b[0mkwds\u001b[0m\u001b[0;34m)\u001b[0m\u001b[0;34m\u001b[0m\u001b[0;34m\u001b[0m\u001b[0m\n\u001b[0m\u001b[1;32m    689\u001b[0m \u001b[0;34m\u001b[0m\u001b[0m\n\u001b[1;32m    690\u001b[0m \u001b[0;34m\u001b[0m\u001b[0m\n",
      "\u001b[0;32m~/.local/lib/python3.6/site-packages/pandas/io/parsers.py\u001b[0m in \u001b[0;36m_read\u001b[0;34m(filepath_or_buffer, kwds)\u001b[0m\n\u001b[1;32m    452\u001b[0m \u001b[0;34m\u001b[0m\u001b[0m\n\u001b[1;32m    453\u001b[0m     \u001b[0;31m# Create the parser.\u001b[0m\u001b[0;34m\u001b[0m\u001b[0;34m\u001b[0m\u001b[0;34m\u001b[0m\u001b[0m\n\u001b[0;32m--> 454\u001b[0;31m     \u001b[0mparser\u001b[0m \u001b[0;34m=\u001b[0m \u001b[0mTextFileReader\u001b[0m\u001b[0;34m(\u001b[0m\u001b[0mfp_or_buf\u001b[0m\u001b[0;34m,\u001b[0m \u001b[0;34m**\u001b[0m\u001b[0mkwds\u001b[0m\u001b[0;34m)\u001b[0m\u001b[0;34m\u001b[0m\u001b[0;34m\u001b[0m\u001b[0m\n\u001b[0m\u001b[1;32m    455\u001b[0m \u001b[0;34m\u001b[0m\u001b[0m\n\u001b[1;32m    456\u001b[0m     \u001b[0;32mif\u001b[0m \u001b[0mchunksize\u001b[0m \u001b[0;32mor\u001b[0m \u001b[0miterator\u001b[0m\u001b[0;34m:\u001b[0m\u001b[0;34m\u001b[0m\u001b[0;34m\u001b[0m\u001b[0m\n",
      "\u001b[0;32m~/.local/lib/python3.6/site-packages/pandas/io/parsers.py\u001b[0m in \u001b[0;36m__init__\u001b[0;34m(self, f, engine, **kwds)\u001b[0m\n\u001b[1;32m    946\u001b[0m             \u001b[0mself\u001b[0m\u001b[0;34m.\u001b[0m\u001b[0moptions\u001b[0m\u001b[0;34m[\u001b[0m\u001b[0;34m\"has_index_names\"\u001b[0m\u001b[0;34m]\u001b[0m \u001b[0;34m=\u001b[0m \u001b[0mkwds\u001b[0m\u001b[0;34m[\u001b[0m\u001b[0;34m\"has_index_names\"\u001b[0m\u001b[0;34m]\u001b[0m\u001b[0;34m\u001b[0m\u001b[0;34m\u001b[0m\u001b[0m\n\u001b[1;32m    947\u001b[0m \u001b[0;34m\u001b[0m\u001b[0m\n\u001b[0;32m--> 948\u001b[0;31m         \u001b[0mself\u001b[0m\u001b[0;34m.\u001b[0m\u001b[0m_make_engine\u001b[0m\u001b[0;34m(\u001b[0m\u001b[0mself\u001b[0m\u001b[0;34m.\u001b[0m\u001b[0mengine\u001b[0m\u001b[0;34m)\u001b[0m\u001b[0;34m\u001b[0m\u001b[0;34m\u001b[0m\u001b[0m\n\u001b[0m\u001b[1;32m    949\u001b[0m \u001b[0;34m\u001b[0m\u001b[0m\n\u001b[1;32m    950\u001b[0m     \u001b[0;32mdef\u001b[0m \u001b[0mclose\u001b[0m\u001b[0;34m(\u001b[0m\u001b[0mself\u001b[0m\u001b[0;34m)\u001b[0m\u001b[0;34m:\u001b[0m\u001b[0;34m\u001b[0m\u001b[0;34m\u001b[0m\u001b[0m\n",
      "\u001b[0;32m~/.local/lib/python3.6/site-packages/pandas/io/parsers.py\u001b[0m in \u001b[0;36m_make_engine\u001b[0;34m(self, engine)\u001b[0m\n\u001b[1;32m   1178\u001b[0m     \u001b[0;32mdef\u001b[0m \u001b[0m_make_engine\u001b[0m\u001b[0;34m(\u001b[0m\u001b[0mself\u001b[0m\u001b[0;34m,\u001b[0m \u001b[0mengine\u001b[0m\u001b[0;34m=\u001b[0m\u001b[0;34m\"c\"\u001b[0m\u001b[0;34m)\u001b[0m\u001b[0;34m:\u001b[0m\u001b[0;34m\u001b[0m\u001b[0;34m\u001b[0m\u001b[0m\n\u001b[1;32m   1179\u001b[0m         \u001b[0;32mif\u001b[0m \u001b[0mengine\u001b[0m \u001b[0;34m==\u001b[0m \u001b[0;34m\"c\"\u001b[0m\u001b[0;34m:\u001b[0m\u001b[0;34m\u001b[0m\u001b[0;34m\u001b[0m\u001b[0m\n\u001b[0;32m-> 1180\u001b[0;31m             \u001b[0mself\u001b[0m\u001b[0;34m.\u001b[0m\u001b[0m_engine\u001b[0m \u001b[0;34m=\u001b[0m \u001b[0mCParserWrapper\u001b[0m\u001b[0;34m(\u001b[0m\u001b[0mself\u001b[0m\u001b[0;34m.\u001b[0m\u001b[0mf\u001b[0m\u001b[0;34m,\u001b[0m \u001b[0;34m**\u001b[0m\u001b[0mself\u001b[0m\u001b[0;34m.\u001b[0m\u001b[0moptions\u001b[0m\u001b[0;34m)\u001b[0m\u001b[0;34m\u001b[0m\u001b[0;34m\u001b[0m\u001b[0m\n\u001b[0m\u001b[1;32m   1181\u001b[0m         \u001b[0;32melse\u001b[0m\u001b[0;34m:\u001b[0m\u001b[0;34m\u001b[0m\u001b[0;34m\u001b[0m\u001b[0m\n\u001b[1;32m   1182\u001b[0m             \u001b[0;32mif\u001b[0m \u001b[0mengine\u001b[0m \u001b[0;34m==\u001b[0m \u001b[0;34m\"python\"\u001b[0m\u001b[0;34m:\u001b[0m\u001b[0;34m\u001b[0m\u001b[0;34m\u001b[0m\u001b[0m\n",
      "\u001b[0;32m~/.local/lib/python3.6/site-packages/pandas/io/parsers.py\u001b[0m in \u001b[0;36m__init__\u001b[0;34m(self, src, **kwds)\u001b[0m\n\u001b[1;32m   2008\u001b[0m         \u001b[0mkwds\u001b[0m\u001b[0;34m[\u001b[0m\u001b[0;34m\"usecols\"\u001b[0m\u001b[0;34m]\u001b[0m \u001b[0;34m=\u001b[0m \u001b[0mself\u001b[0m\u001b[0;34m.\u001b[0m\u001b[0musecols\u001b[0m\u001b[0;34m\u001b[0m\u001b[0;34m\u001b[0m\u001b[0m\n\u001b[1;32m   2009\u001b[0m \u001b[0;34m\u001b[0m\u001b[0m\n\u001b[0;32m-> 2010\u001b[0;31m         \u001b[0mself\u001b[0m\u001b[0;34m.\u001b[0m\u001b[0m_reader\u001b[0m \u001b[0;34m=\u001b[0m \u001b[0mparsers\u001b[0m\u001b[0;34m.\u001b[0m\u001b[0mTextReader\u001b[0m\u001b[0;34m(\u001b[0m\u001b[0msrc\u001b[0m\u001b[0;34m,\u001b[0m \u001b[0;34m**\u001b[0m\u001b[0mkwds\u001b[0m\u001b[0;34m)\u001b[0m\u001b[0;34m\u001b[0m\u001b[0;34m\u001b[0m\u001b[0m\n\u001b[0m\u001b[1;32m   2011\u001b[0m         \u001b[0mself\u001b[0m\u001b[0;34m.\u001b[0m\u001b[0munnamed_cols\u001b[0m \u001b[0;34m=\u001b[0m \u001b[0mself\u001b[0m\u001b[0;34m.\u001b[0m\u001b[0m_reader\u001b[0m\u001b[0;34m.\u001b[0m\u001b[0munnamed_cols\u001b[0m\u001b[0;34m\u001b[0m\u001b[0;34m\u001b[0m\u001b[0m\n\u001b[1;32m   2012\u001b[0m \u001b[0;34m\u001b[0m\u001b[0m\n",
      "\u001b[0;32mpandas/_libs/parsers.pyx\u001b[0m in \u001b[0;36mpandas._libs.parsers.TextReader.__cinit__\u001b[0;34m()\u001b[0m\n",
      "\u001b[0;32mpandas/_libs/parsers.pyx\u001b[0m in \u001b[0;36mpandas._libs.parsers.TextReader._setup_parser_source\u001b[0;34m()\u001b[0m\n",
      "\u001b[0;31mFileNotFoundError\u001b[0m: [Errno 2] No such file or directory: 'latimes/030.csv'"
     ]
    }
   ],
   "source": [
    "pandarallel.initialize(nb_workers=40, progress_bar=True)\n",
    "for idx in range(27,100):\n",
    "    print('\\n ----------%s ------------'%idx)\n",
    "    df = pd.read_csv('latimes/%03d.csv'%idx, header=0)\n",
    "    df['text']=None\n",
    "    df['text']= df['links'].parallel_apply(extract_story).values\n",
    "    df.to_csv('latimes/%03d.csv'%idx, index=False)"
   ]
  },
  {
   "cell_type": "code",
   "execution_count": 9,
   "metadata": {
    "ExecuteTime": {
     "end_time": "2021-04-21T01:19:24.457291Z",
     "start_time": "2021-04-21T00:40:21.686081Z"
    },
    "scrolled": true
   },
   "outputs": [
    {
     "name": "stdout",
     "output_type": "stream",
     "text": [
      "INFO: Pandarallel will run on 8 workers.\n",
      "INFO: Pandarallel will use Memory file system to transfer data between the main process and workers.\n",
      "\n",
      " ----------11 ------------\n"
     ]
    },
    {
     "data": {
      "application/vnd.jupyter.widget-view+json": {
       "model_id": "2a2db587bfdc45109de157e2e2833f5d",
       "version_major": 2,
       "version_minor": 0
      },
      "text/plain": [
       "VBox(children=(HBox(children=(IntProgress(value=0, description='0.00%', max=1), Label(value='0 / 1'))), HBox(c…"
      ]
     },
     "metadata": {},
     "output_type": "display_data"
    },
    {
     "name": "stdout",
     "output_type": "stream",
     "text": [
      "\n",
      " ----------12 ------------\n"
     ]
    },
    {
     "data": {
      "application/vnd.jupyter.widget-view+json": {
       "model_id": "70bf103193f144ccbcfb0d668408bcc5",
       "version_major": 2,
       "version_minor": 0
      },
      "text/plain": [
       "VBox(children=(HBox(children=(IntProgress(value=0, description='0.00%', max=1), Label(value='0 / 1'))), HBox(c…"
      ]
     },
     "metadata": {},
     "output_type": "display_data"
    },
    {
     "name": "stdout",
     "output_type": "stream",
     "text": [
      "\n",
      " ----------13 ------------\n"
     ]
    },
    {
     "data": {
      "application/vnd.jupyter.widget-view+json": {
       "model_id": "8a2446a66bab404291270ecc8e221ed4",
       "version_major": 2,
       "version_minor": 0
      },
      "text/plain": [
       "VBox(children=(HBox(children=(IntProgress(value=0, description='0.00%', max=1), Label(value='0 / 1'))),))"
      ]
     },
     "metadata": {},
     "output_type": "display_data"
    },
    {
     "name": "stdout",
     "output_type": "stream",
     "text": [
      "\n",
      " ----------14 ------------\n"
     ]
    },
    {
     "data": {
      "application/vnd.jupyter.widget-view+json": {
       "model_id": "8260c59fc3ea4912aceea22d289f7464",
       "version_major": 2,
       "version_minor": 0
      },
      "text/plain": [
       "VBox(children=(HBox(children=(IntProgress(value=0, description='0.00%', max=1), Label(value='0 / 1'))), HBox(c…"
      ]
     },
     "metadata": {},
     "output_type": "display_data"
    },
    {
     "name": "stdout",
     "output_type": "stream",
     "text": [
      "\n",
      " ----------15 ------------\n"
     ]
    },
    {
     "data": {
      "application/vnd.jupyter.widget-view+json": {
       "model_id": "f5d93e8678ab49938eb889b7cc54eb1a",
       "version_major": 2,
       "version_minor": 0
      },
      "text/plain": [
       "VBox(children=(HBox(children=(IntProgress(value=0, description='0.00%', max=1), Label(value='0 / 1'))),))"
      ]
     },
     "metadata": {},
     "output_type": "display_data"
    },
    {
     "name": "stdout",
     "output_type": "stream",
     "text": [
      "\n",
      " ----------16 ------------\n"
     ]
    },
    {
     "data": {
      "application/vnd.jupyter.widget-view+json": {
       "model_id": "fc439c2f0dd8455d9327733412b725eb",
       "version_major": 2,
       "version_minor": 0
      },
      "text/plain": [
       "VBox(children=(HBox(children=(IntProgress(value=0, description='0.00%', max=1), Label(value='0 / 1'))), HBox(c…"
      ]
     },
     "metadata": {},
     "output_type": "display_data"
    },
    {
     "name": "stdout",
     "output_type": "stream",
     "text": [
      "\n",
      " ----------17 ------------\n"
     ]
    },
    {
     "data": {
      "application/vnd.jupyter.widget-view+json": {
       "model_id": "94381586913941118f1fdc2a3bdf36f2",
       "version_major": 2,
       "version_minor": 0
      },
      "text/plain": [
       "VBox(children=(HBox(children=(IntProgress(value=0, description='0.00%', max=3), Label(value='0 / 3'))), HBox(c…"
      ]
     },
     "metadata": {},
     "output_type": "display_data"
    },
    {
     "name": "stdout",
     "output_type": "stream",
     "text": [
      "\n",
      " ----------18 ------------\n"
     ]
    },
    {
     "data": {
      "application/vnd.jupyter.widget-view+json": {
       "model_id": "cfefbdaf5f8842afbc52dc6262fbb256",
       "version_major": 2,
       "version_minor": 0
      },
      "text/plain": [
       "VBox(children=(HBox(children=(IntProgress(value=0, description='0.00%', max=2), Label(value='0 / 2'))), HBox(c…"
      ]
     },
     "metadata": {},
     "output_type": "display_data"
    },
    {
     "name": "stdout",
     "output_type": "stream",
     "text": [
      "\n",
      " ----------19 ------------\n"
     ]
    },
    {
     "data": {
      "application/vnd.jupyter.widget-view+json": {
       "model_id": "5563069739774f3ab4e28e2536c55c70",
       "version_major": 2,
       "version_minor": 0
      },
      "text/plain": [
       "VBox(children=(HBox(children=(IntProgress(value=0, description='0.00%', max=2), Label(value='0 / 2'))), HBox(c…"
      ]
     },
     "metadata": {},
     "output_type": "display_data"
    },
    {
     "name": "stdout",
     "output_type": "stream",
     "text": [
      "\n",
      " ----------20 ------------\n"
     ]
    },
    {
     "data": {
      "application/vnd.jupyter.widget-view+json": {
       "model_id": "e3814d5bcc7c433f9ddb9fc94ec94896",
       "version_major": 2,
       "version_minor": 0
      },
      "text/plain": [
       "VBox(children=(HBox(children=(IntProgress(value=0, description='0.00%', max=8), Label(value='0 / 8'))), HBox(c…"
      ]
     },
     "metadata": {},
     "output_type": "display_data"
    },
    {
     "name": "stdout",
     "output_type": "stream",
     "text": [
      "error https://www.latimes.com/la-timespollfaq-htmlstory.html\n",
      "\n",
      " ----------21 ------------\n"
     ]
    },
    {
     "data": {
      "application/vnd.jupyter.widget-view+json": {
       "model_id": "8fa7a83c13c84992bad288ca45464fdb",
       "version_major": 2,
       "version_minor": 0
      },
      "text/plain": [
       "VBox(children=(HBox(children=(IntProgress(value=0, description='0.00%', max=7), Label(value='0 / 7'))), HBox(c…"
      ]
     },
     "metadata": {},
     "output_type": "display_data"
    },
    {
     "name": "stdout",
     "output_type": "stream",
     "text": [
      "\n",
      " ----------22 ------------\n"
     ]
    },
    {
     "data": {
      "application/vnd.jupyter.widget-view+json": {
       "model_id": "3545880c768548fab414670e65ee07aa",
       "version_major": 2,
       "version_minor": 0
      },
      "text/plain": [
       "VBox(children=(HBox(children=(IntProgress(value=0, description='0.00%', max=13), Label(value='0 / 13'))), HBox…"
      ]
     },
     "metadata": {},
     "output_type": "display_data"
    },
    {
     "name": "stdout",
     "output_type": "stream",
     "text": [
      "\n",
      " ----------23 ------------\n"
     ]
    },
    {
     "data": {
      "application/vnd.jupyter.widget-view+json": {
       "model_id": "a42e10f30d5242bcb6518f86752a3a43",
       "version_major": 2,
       "version_minor": 0
      },
      "text/plain": [
       "VBox(children=(HBox(children=(IntProgress(value=0, description='0.00%', max=11), Label(value='0 / 11'))), HBox…"
      ]
     },
     "metadata": {},
     "output_type": "display_data"
    },
    {
     "name": "stdout",
     "output_type": "stream",
     "text": [
      "\n",
      " ----------24 ------------\n"
     ]
    },
    {
     "data": {
      "application/vnd.jupyter.widget-view+json": {
       "model_id": "7be3e10aa9154ae5b2bfd86fb287dd7e",
       "version_major": 2,
       "version_minor": 0
      },
      "text/plain": [
       "VBox(children=(HBox(children=(IntProgress(value=0, description='0.00%', max=15), Label(value='0 / 15'))), HBox…"
      ]
     },
     "metadata": {},
     "output_type": "display_data"
    },
    {
     "name": "stdout",
     "output_type": "stream",
     "text": [
      "\n",
      " ----------25 ------------\n"
     ]
    },
    {
     "data": {
      "application/vnd.jupyter.widget-view+json": {
       "model_id": "72e34f88086f43d886ca5d3570ce7cf6",
       "version_major": 2,
       "version_minor": 0
      },
      "text/plain": [
       "VBox(children=(HBox(children=(IntProgress(value=0, description='0.00%', max=47), Label(value='0 / 47'))), HBox…"
      ]
     },
     "metadata": {},
     "output_type": "display_data"
    },
    {
     "name": "stdout",
     "output_type": "stream",
     "text": [
      "\n",
      " ----------26 ------------\n"
     ]
    },
    {
     "data": {
      "application/vnd.jupyter.widget-view+json": {
       "model_id": "7b3b35356b194875bd12d471267261f5",
       "version_major": 2,
       "version_minor": 0
      },
      "text/plain": [
       "VBox(children=(HBox(children=(IntProgress(value=0, description='0.00%', max=790), Label(value='0 / 790'))), HB…"
      ]
     },
     "metadata": {},
     "output_type": "display_data"
    },
    {
     "name": "stdout",
     "output_type": "stream",
     "text": [
      "\n",
      " ----------27 ------------\n"
     ]
    },
    {
     "data": {
      "application/vnd.jupyter.widget-view+json": {
       "model_id": "1e54309bad2f4688a773a86170e1d506",
       "version_major": 2,
       "version_minor": 0
      },
      "text/plain": [
       "VBox(children=(HBox(children=(IntProgress(value=0, description='0.00%', max=1494), Label(value='0 / 1494'))), …"
      ]
     },
     "metadata": {},
     "output_type": "display_data"
    },
    {
     "name": "stdout",
     "output_type": "stream",
     "text": [
      "error https://www.latimes.com/80902214-132.html\n",
      "error https://www.latimes.com/visuals/photography/la-fg-israel-gaza-protests-pictures-photogallery.html\n",
      "error https://www.latimes.com/local/lanow/la-the-great-american-shakeout-pictures-photogallery.htmlerror https://www.latimes.com/nation/nationnow/la-na-nn-shark-week-returns-20120813-photos-photogallery.html\n",
      "\n",
      "error https://www.latimes.com/world/la-fg-ice-festival-pg-photogallery.html\n",
      "\n",
      " ----------28 ------------\n"
     ]
    },
    {
     "data": {
      "application/vnd.jupyter.widget-view+json": {
       "model_id": "cb9d0889b7474b9b93b42baf4edf2ab5",
       "version_major": 2,
       "version_minor": 0
      },
      "text/plain": [
       "VBox(children=(HBox(children=(IntProgress(value=0, description='0.00%', max=1191), Label(value='0 / 1191'))), …"
      ]
     },
     "metadata": {},
     "output_type": "display_data"
    },
    {
     "name": "stdout",
     "output_type": "stream",
     "text": [
      "error https://www.latimes.com/nation/ct-photos-violence-at-trump-rally-in-new-mexico-20160524-photogallery.html\n",
      "error https://www.latimes.com/87189933-132.html\n",
      "error https://www.latimes.com/87166797-132.html\n",
      "error https://www.latimes.com/83646088-132.html\n",
      "error https://www.latimes.com/la-trb-las-vegas-chocolate-20160126-photogallery.html\n",
      "error https://www.latimes.com/83627015-132.html\n",
      "error https://www.latimes.com/83626915-132.html\n",
      "error https://www.latimes.com/84125052-132.html\n",
      "error https://www.latimes.com/la-hm-motti-casa-pictures-photogallery.htmlerror https://www.latimes.com/politics/la-pol-ca-campaign-mailers-independent-expenditures-photos-photogallery.html\n",
      "\n",
      "error https://www.latimes.com/local/california/la-me-cap-20150928-column.html\n",
      "error https://www.latimes.com/87475342-132.html\n",
      "error https://www.latimes.com/84525220-132.html\n",
      "error https://www.latimes.com/84461253-132.html\n",
      "error https://www.latimes.com/83483702-132.html\n",
      "error https://www.latimes.com/85861023-132.html\n",
      "error https://www.latimes.com/89327108-132.html\n",
      "error https://www.latimes.com/business/hiltzik/la-fi-mh-supreme-court-saves-obamacare-20150625-column.html\n",
      "error https://www.latimes.com/local/california/la-me-1123-lopez-gupta-20141123-column.html\n",
      "error https://www.latimes.com/local/politics/la-me-cap-confederate-flag-20150625-column.html\n",
      "error https://www.latimes.com/local/california/la-me-1122-banks-heroes-day-20141122-column.html\n",
      "error https://www.latimes.com/nation/la-oe-mcmanus-column-iraq-isis-war-20141123-column.html\n",
      "error https://www.latimes.com/local/lanow/la-me-ln-lopez-immigration-reform-20141121-column.html\n",
      "error https://www.latimes.com/opinion/op-ed/la-oe-0624-morrison-labonge-20150624-column.html\n",
      "error https://www.latimes.com/local/abcarian/la-me-abcarian-silva-death-20141121-column.html\n",
      "error https://www.latimes.com/local/politics/la-me-cap-brown-fundraising-20141120-column.html\n",
      "error https://www.latimes.com/opinion/op-ed/la-oe-morrison-gehry-20141119-column.html\n",
      "error https://www.latimes.com/nation/la-oe-mcmanus-column-sanders-democrats-2016-20141119-11-column.html\n",
      "error https://www.latimes.com/local/politics/la-me-cap-roads-healthcare-20150622-column.html\n",
      "error https://www.latimes.com/local/california/la-me-1118-banks-good-victims-column-20141118-column.html\n",
      "error https://www.latimes.com/opinion/op-ed/la-oe-goldberg-rosetta-scientist-shirtgate-feminists-20141118-column.html\n",
      "error https://www.latimes.com/local/abcarian/la-me-0619-abcarian-farmer-drought-20150619-column.html\n",
      "error https://www.latimes.com/opinion/op-ed/la-oe-newton-column-lapd-drones-20141117-column.html\n",
      "error https://www.latimes.com/84756241-132.html\n",
      "error https://www.latimes.com/81872385-132.html\n",
      "error https://www.latimes.com/local/abcarian/la-me-1016-abcarian-patent-office-20151016-column.html\n",
      "error https://www.latimes.com/local/politics/la-me-cap-brown-bills-20151015-column.html\n",
      "error https://www.latimes.com/81844558-132.html\n",
      "error https://www.latimes.com/81844602-132.html\n",
      "error https://www.latimes.com/business/hiltzik/la-fi-mh-clinton-social-security-20151014-column.html\n",
      "error https://www.latimes.com/opinion/op-ed/la-oe-morrison-silverstein-20151014-column.html\n",
      "error https://www.latimes.com/opinion/op-ed/la-oe-1014-mcmanus-democratic-debate-20151014-column.html\n",
      "error https://www.latimes.com/entertainment/arts/miranda/la-et-cam-iraqi-photo-agency-metrography-documenting-refugees-20151012-column.html\n",
      "error https://www.latimes.com/local/california/la-me-lopez-kip-20151014-column.html\n",
      "error https://www.latimes.com/local/abcarian/la-me-ra-playboy-magazine-20151013-column.html\n",
      "error https://www.latimes.com/opinion/op-ed/la-oe-1013-goldberg-clinton-biden-20151013-column.html\n",
      "error https://www.latimes.com/local/abcarian/la-me-ra-abcarian-clotheslines-20151012-column.html\n",
      "error https://www.latimes.com/local/california/la-me-0607-lopez-fallingapart-20150606-column.html\n",
      "error https://www.latimes.com/local/politics/la-me-cap-guns-20151012-column.html\n",
      "error https://www.latimes.com/opinion/op-ed/la-oe-1011-mcmanus-gop-disarray-20151011-column.html\n",
      "error https://www.latimes.com/local/california/la-me-banks-facebook-dogfight-20151010-column.html\n",
      "error https://www.latimes.com/local/abcarian/la-me-ra-abalone-dangers-20151007-column.html\n",
      "error https://www.latimes.com/la-test-live-blog-training-updates-test-headline-for-live-1485983647-htmlstory.html\n",
      "error https://www.latimes.com/85183090-132.html\n",
      "error https://www.latimes.com/85183085-132.html\n",
      "error https://www.latimes.com/86731972-132.html\n",
      "error https://www.latimes.com/86731627-132.html\n",
      "error https://www.latimes.com/86730763-132.html\n",
      "error https://www.latimes.com/86731497-132.html\n",
      "error https://www.latimes.com/84029590-132.html\n",
      "error https://www.latimes.com/82962015-132.html\n",
      "error https://www.latimes.com/90339824-132.html\n",
      "error https://www.latimes.com/90339749-132.html\n",
      "error https://www.latimes.com/89964603-132.html\n",
      "error https://www.latimes.com/89887147-132.html\n",
      "\n",
      " ----------29 ------------\n"
     ]
    },
    {
     "data": {
      "application/vnd.jupyter.widget-view+json": {
       "model_id": "de9101e1337e42afbf808f88fd69c0a9",
       "version_major": 2,
       "version_minor": 0
      },
      "text/plain": [
       "VBox(children=(HBox(children=(IntProgress(value=0, description='0.00%', max=538), Label(value='0 / 538'))), HB…"
      ]
     },
     "metadata": {},
     "output_type": "display_data"
    },
    {
     "name": "stdout",
     "output_type": "stream",
     "text": [
      "error https://www.latimes.com/espanol/deportes/la-world-cup-espanol-updates-2018-htmlstory.html\n",
      "error https://www.latimes.com/116663390-132.html\n",
      "error https://www.latimes.com/nation/la-na-jayme-closs-kidnapper-jake-patterson-sentenced-to-life-in-prison-20190524-story.html\n",
      "error https://www.latimes.com/world/la-fg-north-korea-nuclear-talks-trump-kim-20190524-story.html\n",
      "error https://www.latimes.com/opinion/op-ed/la-oe-graedon-abortion-legal-alabama-pregnant-20190523-story.html\n",
      "error https://www.latimes.com/local/lanow/la-pomona-officer-mourned-20180311-photos-photogallery.html\n",
      "error https://www.latimes.com/112832160-132.html\n",
      "error https://www.latimes.com/109532111-132.html\n",
      "error https://www.latimes.com/opinion/enterthefray/la-ed-infrastructure-trump-pelosi-20190501-story.html\n",
      "error https://www.latimes.com/la-me-edu-lausd-school-board-election-results-20190312-story.html\n",
      "error https://www.latimes.com/local/lanow/la-me-ln-alonzo-leron-smith-sentencing-20190307-story.html\n"
     ]
    }
   ],
   "source": [
    "pandarallel.initialize(nb_workers=8, progress_bar=True)\n",
    "for idx in range(11,30):\n",
    "    print('\\n ----------%s ------------'%idx)\n",
    "    df = pd.read_csv('latimes/%03d.csv'%idx, header=0)\n",
    "    if df[df.text.isnull()].shape[0]:\n",
    "        df.loc[df.text.isnull(), 'text']= df.loc[df.text.isnull(), 'links'].parallel_apply(extract_story).values\n",
    "        df.to_csv('latimes/%03d.csv'%idx, index=False)"
   ]
  },
  {
   "cell_type": "code",
   "execution_count": 11,
   "metadata": {
    "ExecuteTime": {
     "end_time": "2021-04-21T06:20:32.662352Z",
     "start_time": "2021-04-21T06:20:32.544844Z"
    }
   },
   "outputs": [
    {
     "data": {
      "text/plain": [
       "array(['sports', '92705433-132.html', 'local', ..., 'mskkfbedsxa-123',\n",
       "       '00000178-af63-d23f-a9fe-bf7b68060000-123',\n",
       "       'dodgerstadiumrenovations'], dtype=object)"
      ]
     },
     "execution_count": 11,
     "metadata": {},
     "output_type": "execute_result"
    }
   ],
   "source": [
    "df.links.apply(lambda x: x.replace('https://www.latimes.com/', '').split('/')[0]).unique()"
   ]
  },
  {
   "cell_type": "code",
   "execution_count": 25,
   "metadata": {
    "ExecuteTime": {
     "end_time": "2021-04-21T06:41:36.859748Z",
     "start_time": "2021-04-21T06:35:27.361363Z"
    },
    "scrolled": true
   },
   "outputs": [
    {
     "name": "stdout",
     "output_type": "stream",
     "text": [
      "INFO: Pandarallel will run on 40 workers.\n",
      "INFO: Pandarallel will use Memory file system to transfer data between the main process and workers.\n",
      "\n",
      " ----------1 ------------\n",
      "0    1985-12\n",
      "Name: date, dtype: object 92801    1986-9\n",
      "Name: date, dtype: object\n",
      "\n",
      " ----------2 ------------\n",
      "0    1986-10\n",
      "Name: date, dtype: object 100552    1987-7\n",
      "Name: date, dtype: object\n",
      "\n",
      " ----------3 ------------\n",
      "36358    1987-10\n",
      "Name: date, dtype: object 100551    1988-4\n",
      "Name: date, dtype: object\n",
      "\n",
      " ----------4 ------------\n",
      "77522    1988-10\n",
      "Name: date, dtype: object 58462    1988-9\n",
      "Name: date, dtype: object\n",
      "\n",
      " ----------5 ------------\n",
      "0    1988-12\n",
      "Name: date, dtype: object 100551    1989-9\n",
      "Name: date, dtype: object\n",
      "\n",
      " ----------6 ------------\n",
      "19412    1989-10\n",
      "Name: date, dtype: object 100551    1990-5\n",
      "Name: date, dtype: object\n",
      "\n",
      " ----------7 ------------\n",
      "72052    1990-10\n",
      "Name: date, dtype: object 58162    1990-9\n",
      "Name: date, dtype: object\n",
      "\n",
      " ----------8 ------------\n",
      "0    1990-12\n",
      "Name: date, dtype: object 100551    1991-8\n",
      "Name: date, dtype: object\n",
      "\n",
      " ----------9 ------------\n",
      "17781    1991-10\n",
      "Name: date, dtype: object 100551    1992-5\n",
      "Name: date, dtype: object\n",
      "\n",
      " ----------10 ------------\n",
      "60002    1992-10\n",
      "Name: date, dtype: object 100551    1993-2\n",
      "Name: date, dtype: object\n",
      "\n",
      " ----------11 ------------\n",
      "91017    1993-10\n",
      "Name: date, dtype: object 81069    1993-9\n",
      "Name: date, dtype: object\n",
      "\n",
      " ----------12 ------------\n",
      "0    1993-11\n",
      "Name: date, dtype: object 93126    1994-9\n",
      "Name: date, dtype: object\n",
      "\n",
      " ----------13 ------------\n",
      "0    1994-10\n",
      "Name: date, dtype: object 100551    1995-8\n",
      "Name: date, dtype: object\n",
      "\n",
      " ----------14 ------------\n",
      "13559    1995-10\n",
      "Name: date, dtype: object 100551    1996-7\n",
      "Name: date, dtype: object\n",
      "\n",
      " ----------15 ------------\n",
      "25304    1996-10\n",
      "Name: date, dtype: object 100551    1997-6\n",
      "Name: date, dtype: object\n",
      "\n",
      " ----------16 ------------\n",
      "29150    1997-10\n",
      "Name: date, dtype: object 100551    1998-5\n",
      "Name: date, dtype: object\n",
      "\n",
      " ----------17 ------------\n",
      "39639    1998-10\n",
      "Name: date, dtype: object 100551    1999-4\n",
      "Name: date, dtype: object\n",
      "\n",
      " ----------18 ------------\n",
      "50252    1999-10\n",
      "Name: date, dtype: object 100550    2000-3\n",
      "Name: date, dtype: object\n",
      "\n",
      " ----------19 ------------\n",
      "74149    2000-10\n",
      "Name: date, dtype: object 100551    2001-1\n",
      "Name: date, dtype: object\n",
      "\n",
      " ----------20 ------------\n",
      "0    2001-1\n",
      "Name: date, dtype: object 100551    2002-2\n",
      "Name: date, dtype: object\n",
      "\n",
      " ----------21 ------------\n",
      "50419    2002-10\n",
      "Name: date, dtype: object 100551    2003-6\n",
      "Name: date, dtype: object\n",
      "\n",
      " ----------22 ------------\n",
      "26789    2003-10\n",
      "Name: date, dtype: object 91801    2004-9\n",
      "Name: date, dtype: object\n",
      "\n",
      " ----------23 ------------\n",
      "0    2004-10\n",
      "Name: date, dtype: object 100551    2006-5\n",
      "Name: date, dtype: object\n",
      "\n",
      " ----------24 ------------\n",
      "23614    2006-10\n",
      "Name: date, dtype: object 82770    2007-9\n",
      "Name: date, dtype: object\n",
      "\n",
      " ----------25 ------------\n",
      "0    2007-12\n",
      "Name: date, dtype: object 100549    2009-9\n",
      "Name: date, dtype: object\n",
      "\n",
      " ----------26 ------------\n",
      "5763    2009-10\n",
      "Name: date, dtype: object 90833    2012-9\n",
      "Name: date, dtype: object\n",
      "\n",
      " ----------27 ------------\n",
      "1    2012-12\n",
      "Name: date, dtype: object 100541    2014-9\n",
      "Name: date, dtype: object\n",
      "\n",
      " ----------28 ------------\n",
      "6019    2014-10\n",
      "Name: date, dtype: object 100550    2017-3\n",
      "Name: date, dtype: object\n",
      "\n",
      " ----------29 ------------\n",
      "18795    2017-10\n",
      "Name: date, dtype: object 100551    2021-4\n",
      "Name: date, dtype: object\n"
     ]
    }
   ],
   "source": [
    "pandarallel.initialize(nb_workers=40, progress_bar=False)\n",
    "for idx in range(1,30):\n",
    "    print('\\n ----------%s ------------'%idx)\n",
    "    df = pd.read_csv('latimes/%03d.csv'%idx, header=0)\n",
    "    df = df[df.text.str.len()>200]\n",
    "    df = df[~df.text.duplicated()]\n",
    "    df['date'] = df['year'].astype(str) + '-' + df['month'].astype(str)\n",
    "    df = df.rename(columns={'links':'url'})\n",
    "    df = df[['date','text','url']]\n",
    "    df = df.sort_values('date')\n",
    "    print(df.date[0],df.date[len(df)-1])\n",
    "    df.to_csv('latimes/%03d.csv'%idx, index=False)"
   ]
  },
  {
   "cell_type": "markdown",
   "metadata": {},
   "source": [
    "# filtering"
   ]
  },
  {
   "cell_type": "code",
   "execution_count": 8,
   "metadata": {
    "ExecuteTime": {
     "end_time": "2021-04-21T08:28:05.260940Z",
     "start_time": "2021-04-21T07:30:00.425172Z"
    },
    "code_folding": []
   },
   "outputs": [
    {
     "name": "stdout",
     "output_type": "stream",
     "text": [
      "\n",
      " ----------0 ------------\n",
      "74830\n",
      "43701\n",
      "1966-8 1985-7\n",
      "\n",
      " ----------1 ------------\n",
      "94397\n",
      "54038\n",
      "1985-12 1986-9\n",
      "\n",
      " ----------2 ------------\n",
      "94641\n",
      "52812\n",
      "1986-10 1987-7\n",
      "\n",
      " ----------3 ------------\n",
      "95598\n",
      "52730\n",
      "1987-10 1988-4\n",
      "\n",
      " ----------4 ------------\n",
      "95249\n",
      "53841\n",
      "1988-10 1988-9\n",
      "\n",
      " ----------5 ------------\n",
      "95727\n",
      "53546\n",
      "1988-12 1989-9\n",
      "\n",
      " ----------6 ------------\n",
      "95786\n",
      "52197\n",
      "1989-10 1990-5\n",
      "\n",
      " ----------7 ------------\n",
      "95642\n",
      "52290\n",
      "1990-10 1990-9\n",
      "\n",
      " ----------8 ------------\n",
      "94999\n",
      "52799\n",
      "1990-12 1991-8\n",
      "\n",
      " ----------9 ------------\n",
      "95619\n",
      "51384\n",
      "1991-10 1992-5\n",
      "\n",
      " ----------10 ------------\n",
      "95641\n",
      "51570\n",
      "1992-10 1993-2\n",
      "\n",
      " ----------11 ------------\n",
      "97064\n",
      "53182\n",
      "1993-10 1993-9\n",
      "\n",
      " ----------12 ------------\n",
      "97714\n",
      "53685\n",
      "1993-11 1994-9\n",
      "\n",
      " ----------13 ------------\n",
      "98030\n",
      "53593\n",
      "1994-10 1995-8\n",
      "\n",
      " ----------14 ------------\n",
      "97743\n",
      "51600\n",
      "1995-10 1996-7\n",
      "\n",
      " ----------15 ------------\n",
      "97522\n",
      "50074\n",
      "1996-10 1997-6\n",
      "\n",
      " ----------16 ------------\n",
      "97573\n",
      "48247\n",
      "1997-10 1998-5\n",
      "\n",
      " ----------17 ------------\n",
      "96342\n",
      "47130\n",
      "1998-10 1999-4\n",
      "\n",
      " ----------18 ------------\n",
      "95721\n",
      "46086\n",
      "1999-10 2000-3\n",
      "\n",
      " ----------19 ------------\n",
      "95321\n",
      "47709\n",
      "2000-10 2001-1\n",
      "\n",
      " ----------20 ------------\n",
      "97129\n",
      "52175\n",
      "2001-1 2002-2\n",
      "\n",
      " ----------21 ------------\n",
      "98725\n",
      "56047\n",
      "2002-10 2003-6\n",
      "\n",
      " ----------22 ------------\n",
      "98822\n",
      "56869\n",
      "2003-10 2004-9\n",
      "\n",
      " ----------23 ------------\n",
      "98458\n",
      "55655\n",
      "2004-10 2006-5\n",
      "\n",
      " ----------24 ------------\n",
      "97948\n",
      "54005\n",
      "2006-10 2007-9\n",
      "\n",
      " ----------25 ------------\n",
      "95201\n",
      "51989\n",
      "2007-12 2009-9\n",
      "\n",
      " ----------26 ------------\n",
      "87228\n",
      "57488\n",
      "2009-10 2012-9\n",
      "\n",
      " ----------27 ------------\n",
      "83038\n",
      "67541\n",
      "2012-12 2014-9\n",
      "\n",
      " ----------28 ------------\n",
      "81213\n",
      "66131\n",
      "2014-10 2017-3\n",
      "\n",
      " ----------29 ------------\n",
      "89482\n",
      "74315\n",
      "2017-10 2021-4\n"
     ]
    }
   ],
   "source": [
    "for idx in range(30):\n",
    "    print('\\n ----------%s ------------'%idx)\n",
    "    df = pd.read_csv('latimes/%03d.csv'%idx, header=0)\n",
    "    print(df.shape[0])\n",
    "    head = df['url']+' '+ df['text'].parallel_apply(lambda x: x[0:200])\n",
    "    \n",
    "    head_in = head.parallel_apply(find_relevant).str.len()\n",
    "    head_out = head.parallel_apply(find_exclude).str.len()\n",
    "\n",
    "    text_in = df['text'].parallel_apply(find_relevant).str.len()\n",
    "    text_out = df['text'].parallel_apply(find_relevant).str.len()\n",
    "\n",
    "    remove_index =\\\n",
    "        ((head_in ==0) & ( head_out > 0)) |\\\n",
    "        ( head_out >1)|\\\n",
    "        ((text_in  >2) & ( text_out > text_in)) |\\\n",
    "        ( text_out <2)\n",
    "\n",
    "    remove_index = df[remove_index== True].index\n",
    "    remove_index.shape\n",
    "    df = df[~df.index.isin(remove_index)].reset_index(drop=True)\n",
    "    print(df.shape[0])\n",
    "    print(df.date[0],df.date[len(df)-1])\n",
    "    df.to_csv('latimes-1/%03d.csv'%idx, index=False)"
   ]
  },
  {
   "cell_type": "code",
   "execution_count": 9,
   "metadata": {
    "ExecuteTime": {
     "end_time": "2021-04-21T08:28:05.269223Z",
     "start_time": "2021-04-21T08:28:05.265639Z"
    }
   },
   "outputs": [],
   "source": [
    "quit()"
   ]
  }
 ],
 "metadata": {
  "kernelspec": {
   "display_name": "Python 3",
   "language": "python",
   "name": "python3"
  },
  "language_info": {
   "codemirror_mode": {
    "name": "ipython",
    "version": 3
   },
   "file_extension": ".py",
   "mimetype": "text/x-python",
   "name": "python",
   "nbconvert_exporter": "python",
   "pygments_lexer": "ipython3",
   "version": "3.8.5"
  },
  "toc": {
   "base_numbering": 1,
   "nav_menu": {},
   "number_sections": true,
   "sideBar": true,
   "skip_h1_title": false,
   "title_cell": "Table of Contents",
   "title_sidebar": "Contents",
   "toc_cell": false,
   "toc_position": {
    "height": "520.8px",
    "left": "185px",
    "top": "110.8px",
    "width": "307.2px"
   },
   "toc_section_display": true,
   "toc_window_display": true
  }
 },
 "nbformat": 4,
 "nbformat_minor": 5
}
